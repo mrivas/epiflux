{
 "cells": [
  {
   "cell_type": "code",
   "execution_count": 1,
   "id": "1448f7ef",
   "metadata": {},
   "outputs": [],
   "source": [
    "#Importar librerias\n",
    "import pandas as pd\n",
    "import numpy as np\n",
    "import matplotlib.pyplot as plt\n",
    "import scipy.io\n",
    "import cobra\n",
    "import seaborn as sns"
   ]
  },
  {
   "cell_type": "code",
   "execution_count": 2,
   "id": "9fd56446",
   "metadata": {},
   "outputs": [],
   "source": [
    "#cargar como dicc para sacar la info de los flujos de EX_PAC, EX_PME, EX_glc \n",
    "T1= pd.read_csv(\"/home/bguzman/jupyter/UI/YMC/results/T_all_with_media_kuang_mod_al_rx_ac_me_dic/T1_Solve_Succeeded.csv\", sep=\"\\t\", lineterminator='\\n', squeeze=True).to_dict()\n",
    "T2= pd.read_csv(\"/home/bguzman/jupyter/UI/YMC/results/T_all_with_media_kuang_mod_al_rx_ac_me_dic/T2_Solve_Succeeded.csv\", sep=\"\\t\", lineterminator='\\n', squeeze=True).to_dict()\n",
    "T3= pd.read_csv(\"/home/bguzman/jupyter/UI/YMC/results/T_all_with_media_kuang_mod_al_rx_ac_me_dic/T3_Solve_Succeeded.csv\", sep=\"\\t\", lineterminator='\\n', squeeze=True).to_dict()\n",
    "T4= pd.read_csv(\"/home/bguzman/jupyter/UI/YMC/results/T_all_with_media_kuang_mod_al_rx_ac_me_dic/T4_Solve_Succeeded.csv\", sep=\"\\t\", lineterminator='\\n', squeeze=True).to_dict()\n",
    "T5= pd.read_csv(\"/home/bguzman/jupyter/UI/YMC/results/T_all_with_media_kuang_mod_al_rx_ac_me_dic/T5_Solve_Succeeded.csv\", sep=\"\\t\", lineterminator='\\n', squeeze=True).to_dict()\n",
    "T6= pd.read_csv(\"/home/bguzman/jupyter/UI/YMC/results/T_all_with_media_kuang_mod_al_rx_ac_me_dic/T6_Solve_Succeeded.csv\", sep=\"\\t\", lineterminator='\\n', squeeze=True).to_dict()\n",
    "T7= pd.read_csv(\"/home/bguzman/jupyter/UI/YMC/results/T_all_with_media_kuang_mod_al_rx_ac_me_dic/T7_Solve_Succeeded.csv\", sep=\"\\t\", lineterminator='\\n', squeeze=True).to_dict()\n",
    "T8= pd.read_csv(\"/home/bguzman/jupyter/UI/YMC/results/T_all_with_media_kuang_mod_al_rx_ac_me_dic/T8_Solve_Succeeded.csv\", sep=\"\\t\", lineterminator='\\n', squeeze=True).to_dict()\n",
    "T9= pd.read_csv(\"/home/bguzman/jupyter/UI/YMC/results/T_all_with_media_kuang_mod_al_rx_ac_me_dic/T9_Solve_Succeeded.csv\", sep=\"\\t\", lineterminator='\\n', squeeze=True).to_dict()\n",
    "T10= pd.read_csv(\"/home/bguzman/jupyter/UI/YMC/results/T_all_with_media_kuang_mod_al_rx_ac_me_dic/T10_Solve_Succeeded.csv\", sep=\"\\t\", lineterminator='\\n', squeeze=True).to_dict()\n",
    "T11= pd.read_csv(\"/home/bguzman/jupyter/UI/YMC/results/T_all_with_media_kuang_mod_al_rx_ac_me_dic/T11_Solve_Succeeded.csv\", sep=\"\\t\", lineterminator='\\n', squeeze=True).to_dict()\n",
    "T12= pd.read_csv(\"/home/bguzman/jupyter/UI/YMC/results/T_all_with_media_kuang_mod_al_rx_ac_me_dic/T12_Solve_Succeeded.csv\", sep=\"\\t\", lineterminator='\\n', squeeze=True).to_dict()\n",
    "T13= pd.read_csv(\"/home/bguzman/jupyter/UI/YMC/results/T_all_with_media_kuang_mod_al_rx_ac_me_dic/T13_Solve_Succeeded.csv\", sep=\"\\t\", lineterminator='\\n', squeeze=True).to_dict()\n",
    "T14= pd.read_csv(\"/home/bguzman/jupyter/UI/YMC/results/T_all_with_media_kuang_mod_al_rx_ac_me_dic/T14_Solve_Succeeded.csv\", sep=\"\\t\", lineterminator='\\n', squeeze=True).to_dict()\n",
    "T15= pd.read_csv(\"/home/bguzman/jupyter/UI/YMC/results/T_all_with_media_kuang_mod_al_rx_ac_me_dic/T15_Solve_Succeeded.csv\", sep=\"\\t\", lineterminator='\\n', squeeze=True).to_dict()\n",
    "T16=pd.read_csv(\"/home/bguzman/jupyter/UI/YMC/results/T_all_with_media_kuang_mod_al_rx_ac_me_dic/T16_Solve_Succeeded.csv\", sep=\"\\t\", lineterminator='\\n', squeeze=True).to_dict()"
   ]
  },
  {
   "cell_type": "code",
   "execution_count": 3,
   "id": "0bac9abb",
   "metadata": {},
   "outputs": [],
   "source": [
    "#Contruir listas para poder recorrerlas\n",
    "lista_csv=[T1,T2,T3,T4,T5,T6,T7,T8,T9,T10,T11,T12,T13,T14,T15,T16] #contiene archivos\n",
    "lista_time=[\"T1\",\"T2\",\"T3\",\"T4\",\"T5\",\"T6\",\"T7\",\"T8\",\"T9\",\"T10\",\"T11\",\"T12\",\"T13\",\"T14\",\"T15\",\"T16\"] "
   ]
  },
  {
   "cell_type": "code",
   "execution_count": 4,
   "id": "900d3942",
   "metadata": {
    "scrolled": true
   },
   "outputs": [
    {
     "name": "stdout",
     "output_type": "stream",
     "text": [
      "[3.131786715355034, 3.078964351745287, 2.955056436474797, 3.1289613281964868, 2.4675516812794624, 2.6754007965851057, 2.8230973058639104, 2.898107417138219, 2.987264057173061, 2.9843933528131736, 3.0490717307463417, 2.733608499959202, 2.7568813837283774, 2.777096028924891, 2.982989022662297, 3.1592129199244066]\n",
      "[0.6758870397881525, 0.6749814966749389, 0.6878444246719666, 0.6747044777747184, 0.6464324209705821, 0.689081673945596, 0.7149630567936321, 0.7292556961370001, 0.7373988933497793, 0.7048771472827317, 0.7339897267172992, 0.6934007706912948, 0.7268281926757245, 0.6958084299919897, 0.7089065906685473, 0.6846246628070362]\n",
      "[0.005806129859529879, 0.0052793111230782, 0.005712805891671933, 0.005338786086428027, 0.0026602836859206088, 0.0029001292885267155, 0.0035933885619822154, 0.00403740138409522, 0.003923540705106463, 0.004204699298459156, 0.005133560391593622, 0.0059592616842641865, 0.005233743765932289, 0.00633206754711752, 0.006995072667479536, 0.007007848722149257]\n"
     ]
    }
   ],
   "source": [
    "#listas para guardar los valores de los flujos para c/rx\n",
    "lista_glc=[]\n",
    "lista_PAC=[]\n",
    "lista_PME=[]\n",
    "\n",
    "def buscar_posicion(file_csv,name_reaction):\n",
    "\n",
    "    for posicion,name in file_csv[\"Unnamed: 0\"].items():\n",
    "        if name== name_reaction :\n",
    "            return (posicion)\n",
    "    return (\"Not found\")\n",
    "\n",
    "def buscar_valor(file_csv,name_reaction):\n",
    "    posicion= buscar_posicion(file_csv,name_reaction)\n",
    "    return file_csv[\"0\"][posicion]\n",
    "\n",
    "for name_csv in lista_csv:\n",
    "    lista_PAC.append(abs(buscar_valor(name_csv,\"R_EX_PAC\")))\n",
    "    lista_glc.append(abs(buscar_valor(name_csv,\"R_EX_glc__D_e\")))\n",
    "    lista_PME.append(abs(buscar_valor(name_csv,\"R_EX_PME\")))\n",
    "    \n",
    "\n",
    "print(lista_glc)\n",
    "print(lista_PME)\n",
    "print(lista_PAC)\n"
   ]
  },
  {
   "cell_type": "code",
   "execution_count": 5,
   "id": "17b5191c",
   "metadata": {},
   "outputs": [],
   "source": [
    "#cargar como df\n",
    "df_T1= pd.read_csv(\"/home/bguzman/jupyter/UI/YMC/results/T_all_with_media_kuang_mod_al_rx_ac_me_dic/T1_Solve_Succeeded.csv\", sep=\"\\t\")\n",
    "df_T2= pd.read_csv(\"/home/bguzman/jupyter/UI/YMC/results/T_all_with_media_kuang_mod_al_rx_ac_me_dic/T2_Solve_Succeeded.csv\", sep=\"\\t\")\n",
    "df_T3= pd.read_csv(\"/home/bguzman/jupyter/UI/YMC/results/T_all_with_media_kuang_mod_al_rx_ac_me_dic/T3_Solve_Succeeded.csv\", sep=\"\\t\")\n",
    "df_T4= pd.read_csv(\"/home/bguzman/jupyter/UI/YMC/results/T_all_with_media_kuang_mod_al_rx_ac_me_dic/T4_Solve_Succeeded.csv\", sep=\"\\t\")\n",
    "df_T5= pd.read_csv(\"/home/bguzman/jupyter/UI/YMC/results/T_all_with_media_kuang_mod_al_rx_ac_me_dic/T5_Solve_Succeeded.csv\", sep=\"\\t\")\n",
    "df_T6= pd.read_csv(\"/home/bguzman/jupyter/UI/YMC/results/T_all_with_media_kuang_mod_al_rx_ac_me_dic/T6_Solve_Succeeded.csv\", sep=\"\\t\")\n",
    "df_T7= pd.read_csv(\"/home/bguzman/jupyter/UI/YMC/results/T_all_with_media_kuang_mod_al_rx_ac_me_dic/T7_Solve_Succeeded.csv\", sep=\"\\t\")\n",
    "df_T8= pd.read_csv(\"/home/bguzman/jupyter/UI/YMC/results/T_all_with_media_kuang_mod_al_rx_ac_me_dic/T8_Solve_Succeeded.csv\", sep=\"\\t\")\n",
    "df_T9= pd.read_csv(\"/home/bguzman/jupyter/UI/YMC/results/T_all_with_media_kuang_mod_al_rx_ac_me_dic/T9_Solve_Succeeded.csv\", sep=\"\\t\")\n",
    "df_T10= pd.read_csv(\"/home/bguzman/jupyter/UI/YMC/results/T_all_with_media_kuang_mod_al_rx_ac_me_dic/T10_Solve_Succeeded.csv\", sep=\"\\t\")\n",
    "df_T11= pd.read_csv(\"/home/bguzman/jupyter/UI/YMC/results/T_all_with_media_kuang_mod_al_rx_ac_me_dic/T11_Solve_Succeeded.csv\", sep=\"\\t\")\n",
    "df_T12= pd.read_csv(\"/home/bguzman/jupyter/UI/YMC/results/T_all_with_media_kuang_mod_al_rx_ac_me_dic/T12_Solve_Succeeded.csv\", sep=\"\\t\")\n",
    "df_T13= pd.read_csv(\"/home/bguzman/jupyter/UI/YMC/results/T_all_with_media_kuang_mod_al_rx_ac_me_dic/T13_Solve_Succeeded.csv\", sep=\"\\t\")\n",
    "df_T14= pd.read_csv(\"/home/bguzman/jupyter/UI/YMC/results/T_all_with_media_kuang_mod_al_rx_ac_me_dic/T14_Solve_Succeeded.csv\", sep=\"\\t\")\n",
    "df_T15= pd.read_csv(\"/home/bguzman/jupyter/UI/YMC/results/T_all_with_media_kuang_mod_al_rx_ac_me_dic/T15_Solve_Succeeded.csv\", sep=\"\\t\")\n",
    "df_T16=pd.read_csv(\"/home/bguzman/jupyter/UI/YMC/results/T_all_with_media_kuang_mod_al_rx_ac_me_dic/T16_Solve_Succeeded.csv\", sep=\"\\t\")"
   ]
  },
  {
   "cell_type": "code",
   "execution_count": 6,
   "id": "3755bf62",
   "metadata": {},
   "outputs": [
    {
     "data": {
      "text/plain": [
       "0       9.924718e-09\n",
       "1       1.167975e-02\n",
       "2       9.460949e-09\n",
       "3       1.167974e-02\n",
       "4       4.259960e-20\n",
       "            ...     \n",
       "1589    0.000000e+00\n",
       "1590    6.758870e-01\n",
       "1591    6.758870e-01\n",
       "1592    6.758870e-01\n",
       "1593    6.758870e-01\n",
       "Name: 0, Length: 1594, dtype: float64"
      ]
     },
     "execution_count": 6,
     "metadata": {},
     "output_type": "execute_result"
    }
   ],
   "source": [
    "df_T1.iloc[:,1]"
   ]
  },
  {
   "cell_type": "code",
   "execution_count": 7,
   "id": "531e390c",
   "metadata": {},
   "outputs": [],
   "source": [
    "#dejar en valor absoluto cada df\n",
    "abs_T1=df_T1.iloc[:,1].abs()\n",
    "abs_T2=df_T2.iloc[:,1].abs()\n",
    "abs_T3=df_T3.iloc[:,1].abs()\n",
    "abs_T4=df_T4.iloc[:,1].abs()\n",
    "abs_T5=df_T5.iloc[:,1].abs()\n",
    "abs_T6=df_T6.iloc[:,1].abs()\n",
    "abs_T7=df_T7.iloc[:,1].abs()\n",
    "abs_T8=df_T8.iloc[:,1].abs()\n",
    "abs_T9=df_T9.iloc[:,1].abs()\n",
    "abs_T10=df_T10.iloc[:,1].abs()\n",
    "abs_T11=df_T11.iloc[:,1].abs()\n",
    "abs_T12=df_T12.iloc[:,1].abs()\n",
    "abs_T13=df_T13.iloc[:,1].abs()\n",
    "abs_T14=df_T14.iloc[:,1].abs()\n",
    "abs_T15=df_T15.iloc[:,1].abs()\n",
    "abs_T16=df_T16.iloc[:,1].abs()\n",
    "\n",
    "#Hacer una lista para recorrer cada df modificado\n",
    "\n",
    "lista_df=[abs_T1,abs_T2,abs_T3,abs_T4,abs_T5,abs_T6,abs_T7,abs_T8,abs_T9,abs_T10,abs_T11,abs_T12,abs_T13,abs_T14,abs_T15,abs_T16]"
   ]
  },
  {
   "cell_type": "code",
   "execution_count": 8,
   "id": "53904609",
   "metadata": {},
   "outputs": [
    {
     "data": {
      "text/plain": [
       "[129.99058126857457,\n",
       " 123.22480825548533,\n",
       " 134.72454409333986,\n",
       " 127.65470206298548,\n",
       " 105.88523804180878,\n",
       " 105.71514178389646,\n",
       " 113.12287559477568,\n",
       " 115.21228027094125,\n",
       " 117.35439711335745,\n",
       " 116.65753230814053,\n",
       " 120.52481342731961,\n",
       " 118.28422352230479,\n",
       " 111.09076675816601,\n",
       " 111.86433799101314,\n",
       " 112.94749665281134,\n",
       " 133.91099114513372]"
      ]
     },
     "execution_count": 8,
     "metadata": {},
     "output_type": "execute_result"
    }
   ],
   "source": [
    "#sumatoria de los valores absolutos\n",
    "lista_vi=[]\n",
    "for flux in lista_df:\n",
    "    lista_vi.append(flux.sum())\n",
    "    \n",
    "lista_vi\n"
   ]
  },
  {
   "cell_type": "code",
   "execution_count": 9,
   "id": "d64cc3f9",
   "metadata": {},
   "outputs": [
    {
     "name": "stdout",
     "output_type": "stream",
     "text": [
      "[0.005199507788888926, 0.005477642905116002, 0.00510556134593719, 0.00528538680417597, 0.006105028736067423, 0.006518287374141928, 0.006320234108570089, 0.006329669844412692, 0.006283521636070401, 0.006042277196648229, 0.006089947006306041, 0.00586215769138934, 0.006542651688217798, 0.006220109486974204, 0.006276425876419831, 0.005112535251606307]\n"
     ]
    }
   ],
   "source": [
    "#Determinar el alfa para cada tiempo muestral\n",
    "alfa_sam=[]\n",
    "for i in range(16):\n",
    "    PME=lista_PME[i]\n",
    "    vi=lista_vi[i]     \n",
    "    alfa_sam.append(PME/vi)\n",
    "     \n",
    "print(alfa_sam)"
   ]
  },
  {
   "cell_type": "code",
   "execution_count": 10,
   "id": "ea164c0a",
   "metadata": {},
   "outputs": [],
   "source": [
    "import csv\n",
    "dict = {'T1': alfa_sam[0], 'T2': alfa_sam[1], 'T3': alfa_sam[2], 'T4': alfa_sam[3],'T5': alfa_sam[4],'T6': alfa_sam[5],'T7':alfa_sam[6],'T8':alfa_sam[7],'T9':alfa_sam[8],'T10': alfa_sam[9],'T11': alfa_sam[10],'T12': alfa_sam[11],'T13':alfa_sam[12],'T14': alfa_sam[13],'T15': alfa_sam[14],'T16':alfa_sam[15]} \n",
    "df_sam = pd.DataFrame([dict]) \n",
    "df_sam.index = ['EX_Pme/vi']\n",
    "df_sam.to_csv('vectorME_allflux.csv')"
   ]
  },
  {
   "cell_type": "code",
   "execution_count": 11,
   "id": "10dafb6f",
   "metadata": {},
   "outputs": [
    {
     "name": "stdout",
     "output_type": "stream",
     "text": [
      "[4.466577349580265e-05, 4.284292422782644e-05, 4.240360158661206e-05, 4.182208724120356e-05, 2.5124216889139883e-05, 2.7433433277279973e-05, 3.176535729921073e-05, 3.504315142969643e-05, 3.343326540475985e-05, 3.6043101677762354e-05, 4.2593390071409035e-05, 5.038086658395701e-05, 4.711232012040793e-05, 5.660488106250823e-05, 6.19320735277706e-05, 5.233213989547802e-05]\n"
     ]
    }
   ],
   "source": [
    "#Determinar el alfa para cada tiempo muestral\n",
    "alfa_acoa=[]\n",
    "for i in range(16):\n",
    "    PAC=lista_PAC[i]\n",
    "    vi=lista_vi[i]     \n",
    "    alfa_acoa.append(PAC/vi)\n",
    "     \n",
    "print(alfa_acoa)"
   ]
  },
  {
   "cell_type": "code",
   "execution_count": 12,
   "id": "8997b3b9",
   "metadata": {},
   "outputs": [],
   "source": [
    "import csv\n",
    "dict = {'T1': alfa_acoa[0], 'T2': alfa_acoa[1], 'T3': alfa_acoa[2], 'T4': alfa_acoa[3],'T5': alfa_acoa[4],'T6': alfa_acoa[5],'T7':alfa_acoa[6],'T8':alfa_acoa[7],'T9':alfa_acoa[8],'T10': alfa_acoa[9],'T11': alfa_acoa[10],'T12': alfa_acoa[11],'T13':alfa_acoa[12],'T14': alfa_acoa[13],'T15': alfa_acoa[14],'T16':alfa_acoa[15]} \n",
    "df_acoa = pd.DataFrame([dict]) \n",
    "df_acoa.index = ['EX_Pac/vi']\n",
    "df_acoa.to_csv('vectorAC_allflux.csv')"
   ]
  },
  {
   "cell_type": "code",
   "execution_count": 13,
   "id": "881a66cb",
   "metadata": {},
   "outputs": [
    {
     "data": {
      "image/png": "[encoded data removed]",
      "text/plain": [
       "<Figure size 432x288 with 2 Axes>"
      ]
     },
     "metadata": {
      "needs_background": "light"
     },
     "output_type": "display_data"
    }
   ],
   "source": [
    "# vector de metilacion normalizado por todos los flujos\n",
    "df_norm_row = df_sam.apply(lambda x: (x-x.mean())/x.std(), axis = 1)\n",
    "ax=sns.heatmap(df_norm_row, cmap=sns.color_palette(\"coolwarm\", as_cmap=True)\n",
    ")"
   ]
  },
  {
   "cell_type": "code",
   "execution_count": 14,
   "id": "7164f340",
   "metadata": {},
   "outputs": [
    {
     "data": {
      "image/png": "[encoded data removed]",
      "text/plain": [
       "<Figure size 432x288 with 2 Axes>"
      ]
     },
     "metadata": {
      "needs_background": "light"
     },
     "output_type": "display_data"
    }
   ],
   "source": [
    "# Vector de acetilacion normalizado por todos los flujos\n",
    "df_norm_row = df_acoa.apply(lambda x: (x-x.mean())/x.std(), axis = 1)\n",
    "ax=sns.heatmap(df_norm_row, cmap=sns.color_palette(\"coolwarm\", as_cmap=True)\n",
    ")"
   ]
  },
  {
   "cell_type": "code",
   "execution_count": 15,
   "id": "0cc36b49",
   "metadata": {},
   "outputs": [
    {
     "data": {
      "image/png": "[encoded data removed]",
      "text/plain": [
       "<Figure size 432x288 with 2 Axes>"
      ]
     },
     "metadata": {
      "needs_background": "light"
     },
     "output_type": "display_data"
    }
   ],
   "source": [
    "import matplotlib.pyplot as plt\n",
    "SAM= alfa_sam\n",
    "ACOA= alfa_acoa\n",
    "fig, axes = plt.subplots()\n",
    "axes.plot(lista_time, SAM, color='b')\n",
    "axes.set_xlabel('Tiempo muestral')\n",
    "axes.set_ylabel('S-adenosyl methionine flux', color='b')\n",
    "twin_axes = axes.twinx() \n",
    "twin_axes.plot(lista_time, ACOA, 'r')\n",
    "twin_axes.set_ylabel('Acetyl-CoA flux', color='r')\n",
    "#plt.show()\n",
    "plt.savefig(\"vectores_samyacoa_all_flux.pdf\")"
   ]
  },
  {
   "cell_type": "code",
   "execution_count": null,
   "id": "96a05f7c",
   "metadata": {},
   "outputs": [],
   "source": []
  }
 ],
 "metadata": {
  "kernelspec": {
   "display_name": "Python 3 (ipykernel)",
   "language": "python",
   "name": "python3"
  },
  "language_info": {
   "codemirror_mode": {
    "name": "ipython",
    "version": 3
   },
   "file_extension": ".py",
   "mimetype": "text/x-python",
   "name": "python",
   "nbconvert_exporter": "python",
   "pygments_lexer": "ipython3",
   "version": "3.8.3"
  }
 },
 "nbformat": 4,
 "nbformat_minor": 5
}
