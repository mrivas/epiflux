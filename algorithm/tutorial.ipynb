{
 "cells": [
  {
   "cell_type": "markdown",
   "metadata": {},
   "source": [
    "# Tutorial"
   ]
  },
  {
   "cell_type": "markdown",
   "metadata": {},
   "source": [
    "## 1. Loading Epiflux\n",
    "\n",
    "The use Epiflux, go to the folder where the ```Epiflux.py``` is located and load it into memory as follows:"
   ]
  },
  {
   "cell_type": "code",
   "execution_count": 5,
   "metadata": {},
   "outputs": [
    {
     "ename": "ModuleNotFoundError",
     "evalue": "No module named 'codEpiflux'",
     "output_type": "error",
     "traceback": [
      "\u001b[0;31m---------------------------------------------------------------------------\u001b[0m",
      "\u001b[0;31mModuleNotFoundError\u001b[0m                       Traceback (most recent call last)",
      "Input \u001b[0;32mIn [5]\u001b[0m, in \u001b[0;36m<cell line: 1>\u001b[0;34m()\u001b[0m\n\u001b[0;32m----> 1\u001b[0m \u001b[38;5;28;01mimport\u001b[39;00m \u001b[38;5;21;01mcodEpiflux\u001b[39;00m\n",
      "\u001b[0;31mModuleNotFoundError\u001b[0m: No module named 'codEpiflux'"
     ]
    }
   ],
   "source": [
    "import codEpiflux "
   ]
  },
  {
   "cell_type": "markdown",
   "metadata": {},
   "source": [
    "## 2. Preparing the input files\n",
    "\n",
    "To run Pheflux, four inputs are needed:\n",
    "\n",
    "- ```inputFileName```       : Name of the csv file with required information.\n",
    "- ```resultsDir```      : Name of the directory where output files will be stored."
   ]
  },
  {
   "cell_type": "markdown",
   "metadata": {},
   "source": [
    "### 2. 1 Input file\n",
    "\n",
    "The input file is a comma-separated file containing: the name of the organism, the condition, medium, gene expression file, and genome-scale metabolic network. \n",
    "\n",
    "More than one row can be defined in the same file. Pheflux will be run on the data provided for each line. For example, the input file ```examples/data/InputData_yeast_example.csv``` contains the following:\n",
    "\n",
    "| **Organism** | **Condition**          | **GeneExpFile**                        | **Medium**                                       | **Network**                         | **KnownFluxes**                      |\n",
    "|--------------|------------------------|----------------------------------------|--------------------------------------------------|-------------------------------------|--------------------------------------|\n",
    "| Scerevisiae  | T1                     | ../examples/data/transcriptomes/T1.csv             | ../examples/data/mediums/Scerevisiae_Mediumfile_Kuang2.csv   | ../examples/data/gems/iMM904_ac_me_glycogen.xml | ../examples/data/knownFluxes/knownFluxes_T1.csv  |"
   ]
  },
  {
   "cell_type": "code",
   "execution_count": 2,
   "metadata": {},
   "outputs": [],
   "source": [
    "inputFile       = \"./data/InputData_yeast_example.csv\"  # Name of the csv file with required information"
   ]
  },
  {
   "cell_type": "markdown",
   "metadata": {},
   "source": [
    "### 2.2 Results directory\n",
    "\n",
    "A string describing the folder where the output files will be stored. **Important: In the \"example.sh\" script the output folder must be created before predictions are made.**"
   ]
  },
  {
   "cell_type": "code",
   "execution_count": 3,
   "metadata": {},
   "outputs": [],
   "source": [
    "resultsDir      = \"./results\" # Name of the directory where output files will be stored"
   ]
  },
  {
   "cell_type": "markdown",
   "metadata": {},
   "source": [
    "## 3. Running Epiflux\n",
    "\n",
    "With all input files defined, you are now ready to make fluxome estimations. For this, you need to used the ```getFluxes```:"
   ]
  },
  {
   "cell_type": "code",
   "execution_count": 4,
   "metadata": {
    "scrolled": false
   },
   "outputs": [
    {
     "ename": "NameError",
     "evalue": "name 'pheflux' is not defined",
     "output_type": "error",
     "traceback": [
      "\u001b[0;31m---------------------------------------------------------------------------\u001b[0m",
      "\u001b[0;31mNameError\u001b[0m                                 Traceback (most recent call last)",
      "Input \u001b[0;32mIn [4]\u001b[0m, in \u001b[0;36m<cell line: 1>\u001b[0;34m()\u001b[0m\n\u001b[0;32m----> 1\u001b[0m \u001b[43mpheflux\u001b[49m\u001b[38;5;241m.\u001b[39mgetFluxes(inputFile,resultsDir,prefix_log_file,verbosity)\n",
      "\u001b[0;31mNameError\u001b[0m: name 'pheflux' is not defined"
     ]
    }
   ],
   "source": [
    "pheflux.getFluxes(inputFile,resultsDir,prefix_log_file,verbosity) "
   ]
  },
  {
   "cell_type": "markdown",
   "metadata": {},
   "source": [
    "## 4. What is the output\n",
    "\n",
    "Two output files are generated:\n",
    "\n",
    "- ```Organism_Condition_STATUS.fluxes.csv```: Comma-separated file containing the fluxome estimation. \n",
    "- ```Organism_Condition_STATUS.Log.csv```: Comma-separated file containing various statistics.\n",
    "\n",
    "For both files, the words ```Organism```, and ```Condition``` are extracted from the ```examples/data/InputData_example.csv``` file, and the ```STATUS``` word indicates ```IPOPT``` finalization condition."
   ]
  },
  {
   "cell_type": "code",
   "execution_count": null,
   "metadata": {},
   "outputs": [],
   "source": []
  },
  {
   "cell_type": "code",
   "execution_count": null,
   "metadata": {},
   "outputs": [],
   "source": []
  }
 ],
 "metadata": {
  "kernelspec": {
   "display_name": "Python 3 (ipykernel)",
   "language": "python",
   "name": "python3"
  },
  "language_info": {
   "codemirror_mode": {
    "name": "ipython",
    "version": 3
   },
   "file_extension": ".py",
   "mimetype": "text/x-python",
   "name": "python",
   "nbconvert_exporter": "python",
   "pygments_lexer": "ipython3",
   "version": "3.8.3"
  }
 },
 "nbformat": 4,
 "nbformat_minor": 4
}
