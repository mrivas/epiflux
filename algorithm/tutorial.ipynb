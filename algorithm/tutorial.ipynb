{
 "cells": [
  {
   "cell_type": "markdown",
   "metadata": {},
   "source": [
    "# Tutorial"
   ]
  },
  {
   "cell_type": "markdown",
   "metadata": {},
   "source": [
    "## 1. Loading Epiflux\n",
    "\n",
    "The use Epiflux, go to the folder where the ```epiflux.py``` is located and load it into memory as follows:"
   ]
  },
  {
   "cell_type": "code",
   "execution_count": null,
   "metadata": {},
   "outputs": [],
   "source": [
    "from epiflux import *"
   ]
  },
  {
   "cell_type": "markdown",
   "metadata": {},
   "source": [
    "## 2. Preparing the input files\n",
    "\n",
    "To run Pheflux, four inputs are needed:\n",
    "\n",
    "- ```inputFileName```       : Name of the csv file with required information.\n",
    "- ```resultsDir```      : Name of the directory where output files will be stored."
   ]
  },
  {
   "cell_type": "markdown",
   "metadata": {},
   "source": [
    "### 2. 1 Input file\n",
    "\n",
    "The input file is a comma-separated file containing: the name of the organism, the condition, medium, gene expression file, and genome-scale metabolic network. \n",
    "\n",
    "More than one row can be defined in the same file. Pheflux will be run on the data provided for each line. For example, the input file ```examples/data/InputData_yeast_example.csv``` contains the following:\n",
    "\n",
    "| **Organism** | **Condition**          | **GeneExpFile**                        | **Medium**                                       | **Network**                         | **KnownFluxes**                      |\n",
    "|--------------|------------------------|----------------------------------------|--------------------------------------------------|-------------------------------------|--------------------------------------|\n",
    "| Scerevisiae  | T1                     | ../examples/data/transcriptomes/T1.csv             | ../examples/data/mediums/Scerevisiae_Mediumfile_Kuang2.csv   | ../examples/data/gems/iMM904_ac_me_glycogen.xml | ../examples/data/knownFluxes/knownFluxes_T1.csv  |"
   ]
  },
  {
   "cell_type": "code",
   "execution_count": null,
   "metadata": {},
   "outputs": [],
   "source": [
    "inputFileName       = \"/examples/data/InputData_yeast_example.csv\" # Name of the csv file with required information"
   ]
  },
  {
   "cell_type": "markdown",
   "metadata": {},
   "source": [
    "### 2.2 Results directory\n",
    "\n",
    "A string describing the folder where the output files will be stored. **Important: In the \"example.sh\" script the output folder must be created before predictions are made.**"
   ]
  },
  {
   "cell_type": "code",
   "execution_count": null,
   "metadata": {},
   "outputs": [],
   "source": [
    "resultsDir      = \"/examples/results\" # Name of the directory where output files will be stored"
   ]
  },
  {
   "cell_type": "markdown",
   "metadata": {},
   "source": [
    "## 3. Running Epiflux\n",
    "\n",
    "With all input files defined, you are now ready to make fluxome estimations. For this, you need to used the ```getFluxes```:"
   ]
  },
  {
   "cell_type": "code",
   "execution_count": null,
   "metadata": {},
   "outputs": [],
   "source": [
    "getFluxes(inputFileName,resultsDir) "
   ]
  },
  {
   "cell_type": "markdown",
   "metadata": {},
   "source": [
    "## 4. What is the output\n",
    "\n",
    "Two output files are generated:\n",
    "\n",
    "- ```Organism_Condition_STATUS.fluxes.csv```: Comma-separated file containing the fluxome estimation. \n",
    "- ```Organism_Condition_STATUS.Log.csv```: Comma-separated file containing various statistics.\n",
    "\n",
    "For both files, the words ```Organism```, and ```Condition``` are extracted from the ```examples/data/InputData_example.csv``` file, and the ```STATUS``` word indicates ```IPOPT``` finalization condition."
   ]
  }
 ],
 "metadata": {
  "kernelspec": {
   "display_name": "Python 3 (ipykernel)",
   "language": "python",
   "name": "python3"
  },
  "language_info": {
   "codemirror_mode": {
    "name": "ipython",
    "version": 3
   },
   "file_extension": ".py",
   "mimetype": "text/x-python",
   "name": "python",
   "nbconvert_exporter": "python",
   "pygments_lexer": "ipython3",
   "version": "3.8.3"
  }
 },
 "nbformat": 4,
 "nbformat_minor": 4
}
