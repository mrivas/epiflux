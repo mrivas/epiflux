{
 "cells": [
  {
   "cell_type": "code",
   "execution_count": 3,
   "id": "8b17816f",
   "metadata": {},
   "outputs": [],
   "source": [
    "#importar librerias\n",
    "import pandas as pd\n",
    "import numpy as np\n",
    "import matplotlib.pyplot as plt\n",
    "import scipy\n",
    "import scipy.io\n",
    "from scipy import stats\n",
    "import cobra"
   ]
  },
  {
   "cell_type": "code",
   "execution_count": 11,
   "id": "393367d2",
   "metadata": {},
   "outputs": [
    {
     "name": "stdout",
     "output_type": "stream",
     "text": [
      "Scaling...\n",
      " A: min|aij| =  1.000e+00  max|aij| =  1.000e+00  ratio =  1.000e+00\n",
      "Problem data seem to be well scaled\n"
     ]
    }
   ],
   "source": [
    "#definir modelo \n",
    "model = cobra.io.read_sbml_model(\"../../recon3d_6rx.xml\") #modelo recon3d + 6rx de acetilacion \n",
    "#matriz que contiene los datos del eje \"y\" -Estudio Shen\n",
    "mat = scipy.io.loadmat('/home/bguzman/jupyter/UI/fba/supplementary_software_code.mat') #aqui se encuentra \"acetlevellistval\"\n",
    "acetlevel=mat[\"acetlevellistval\"] #acetlevellistval es la lista de valores de acetilacion (eje y)"
   ]
  },
  {
   "cell_type": "code",
   "execution_count": 12,
   "id": "3586c75e",
   "metadata": {},
   "outputs": [
    {
     "data": {
      "text/html": [
       "\n",
       "        <table>\n",
       "            <tr>\n",
       "                <td><strong>Name</strong></td>\n",
       "                <td>Recon3D</td>\n",
       "            </tr><tr>\n",
       "                <td><strong>Memory address</strong></td>\n",
       "                <td>0x07f028baabfa0</td>\n",
       "            </tr><tr>\n",
       "                <td><strong>Number of metabolites</strong></td>\n",
       "                <td>5839</td>\n",
       "            </tr><tr>\n",
       "                <td><strong>Number of reactions</strong></td>\n",
       "                <td>10606</td>\n",
       "            </tr><tr>\n",
       "                <td><strong>Number of groups</strong></td>\n",
       "                <td>0</td>\n",
       "            </tr><tr>\n",
       "                <td><strong>Objective expression</strong></td>\n",
       "                <td>1.0*BIOMASS_maintenance - 1.0*BIOMASS_maintenance_reverse_5b3f9</td>\n",
       "            </tr><tr>\n",
       "                <td><strong>Compartments</strong></td>\n",
       "                <td>cytosol, lysosome, mitochondria, endoplasmic reticulum, extracellular space, peroxisome/glyoxysome, nucleus, golgi apparatus, inner mitochondrial compartment</td>\n",
       "            </tr>\n",
       "          </table>"
      ],
      "text/plain": [
       "<Model Recon3D at 0x7f028baabfa0>"
      ]
     },
     "execution_count": 12,
     "metadata": {},
     "output_type": "execute_result"
    }
   ],
   "source": [
    "model"
   ]
  },
  {
   "cell_type": "code",
   "execution_count": 13,
   "id": "c4bc2a94",
   "metadata": {},
   "outputs": [],
   "source": [
    "#Aquí cargamos los archivos resultantes con los flujos provenientes de Pheflux como diccionario\n",
    "A549= pd.read_csv(\"/home/bguzman/jupyter/UI/pheflux/results/recon3d_6rx_mediums/A549_LUNG_Solve_Succeeded.csv\", sep=\"\\t\", lineterminator='\\n', squeeze=True).to_dict()\n",
    "HCT116= pd.read_csv(\"/home/bguzman/jupyter/UI/pheflux/results/recon3d_6rx_mediums/HCT116_LARGE_INTESTINE_Solve_Succeeded.csv\", sep=\"\\t\", lineterminator='\\n', squeeze=True).to_dict()\n",
    "HL60= pd.read_csv(\"/home/bguzman/jupyter/UI/pheflux/results/recon3d_6rx_mediums/HL60_HAEMATOPOIETIC_AND_LYMPHOID_TISSUE_Solved_To_Acceptable_Level.csv\", sep=\"\\t\", lineterminator='\\n', squeeze=True).to_dict()\n",
    "MCF7= pd.read_csv(\"/home/bguzman/jupyter/UI/pheflux/results/recon3d_6rx_mediums/MCF7_BREAST_Solve_Succeeded.csv\", sep=\"\\t\", lineterminator='\\n', squeeze=True).to_dict()\n",
    "MDAMB231= pd.read_csv(\"/home/bguzman/jupyter/UI/pheflux/results/recon3d_L15/MDAMB231_BREAST_Solve_Succeeded.csv\", sep=\"\\t\", lineterminator='\\n', squeeze=True).to_dict()\n",
    "NB4= pd.read_csv(\"/home/bguzman/jupyter/UI/pheflux/results/recon3d_6rx_mediums/NB4_HAEMATOPOIETIC_AND_LYMPHOID_TISSUE_Solve_Succeeded.csv\", sep=\"\\t\", lineterminator='\\n', squeeze=True).to_dict()\n",
    "PANC1= pd.read_csv(\"/home/bguzman/jupyter/UI/pheflux/results/recon3d_6rx_mediums/PANC1_PANCREAS_Solve_Succeeded.csv\", sep=\"\\t\", lineterminator='\\n', squeeze=True).to_dict()\n",
    "PC3= pd.read_csv(\"/home/bguzman/jupyter/UI/pheflux/results/recon3d_6rx_mediums/PC3_PROSTATE_Solve_Succeeded.csv\", sep=\"\\t\", lineterminator='\\n', squeeze=True).to_dict()\n",
    "SAOS2= pd.read_csv(\"/home/bguzman/jupyter/UI/pheflux/results/recon3d_6rx_mediums/SAOS2_BONE_Solve_Succeeded.csv\", sep=\"\\t\", lineterminator='\\n', squeeze=True).to_dict()\n",
    "SW480= pd.read_csv(\"/home/bguzman/jupyter/UI/pheflux/results/recon3d_L15/SW480_LARGE_INTESTINE_Solve_Succeeded.csv\", sep=\"\\t\", lineterminator='\\n', squeeze=True).to_dict()\n",
    "U2OS= pd.read_csv(\"/home/bguzman/jupyter/UI/pheflux/results/recon3d_6rx_mediums/U2OS_BONE_Solve_Succeeded.csv\", sep=\"\\t\", lineterminator='\\n', squeeze=True).to_dict()\n",
    "U251MG= pd.read_csv(\"/home/bguzman/jupyter/UI/pheflux/results/recon3d_6rx_mediums/U251MG_CENTRAL_NERVOUS_SYSTEM_Solve_Succeeded.csv\", sep=\"\\t\", lineterminator='\\n', squeeze=True).to_dict()\n",
    "U937= pd.read_csv(\"/home/bguzman/jupyter/UI/pheflux/results/recon3d_6rx_mediums/U937_HAEMATOPOIETIC_AND_LYMPHOID_TISSUE_Solve_Succeeded.csv\", sep=\"\\t\", lineterminator='\\n', squeeze=True).to_dict()\n",
    "HUH7= pd.read_csv(\"/home/bguzman/jupyter/UI/pheflux/results/recon3d_6rx_mediums/HUH7_LIVER_Solve_Succeeded.csv\", sep=\"\\t\", lineterminator='\\n', squeeze=True).to_dict()"
   ]
  },
  {
   "cell_type": "code",
   "execution_count": 14,
   "id": "13786420",
   "metadata": {
    "scrolled": true
   },
   "outputs": [],
   "source": [
    "#Cada archivo contiene, llave:\"Unnamed: 0\"=nombre de la reaccion , clave:\"0\"=valor del flujo predicho de cada reaccion\n",
    "#A549"
   ]
  },
  {
   "cell_type": "code",
   "execution_count": 15,
   "id": "6447a362",
   "metadata": {},
   "outputs": [
    {
     "name": "stdout",
     "output_type": "stream",
     "text": [
      "R_EX_glc__D_e\n",
      "R_EX_PAC\n"
     ]
    }
   ],
   "source": [
    "#Donde se encuentran los flujos de interes \"R_EX_glc y R_EX_PAC\"\n",
    "print(A549[\"Unnamed: 0\"][5058])\n",
    "print(A549[\"Unnamed: 0\"][10604])"
   ]
  },
  {
   "cell_type": "code",
   "execution_count": 16,
   "id": "5b42ca79",
   "metadata": {},
   "outputs": [
    {
     "data": {
      "text/plain": [
       "0.13745475131598905"
      ]
     },
     "execution_count": 16,
     "metadata": {},
     "output_type": "execute_result"
    }
   ],
   "source": [
    "A549[\"0\"][5058]"
   ]
  },
  {
   "cell_type": "code",
   "execution_count": 29,
   "id": "fdf85351",
   "metadata": {},
   "outputs": [
    {
     "name": "stdout",
     "output_type": "stream",
     "text": [
      "[0.059057233043636435, 0.0545483478825664, 0.04759127143689707, 0.06461860663944446, 0.05154761904540172, 0.06264717746317773, 0.05327794566959319, 0.06496425390757278, 0.06164475098981365, 0.06376053314726629, 0.05857287040841513, 0.06273203423464323, 0.043558002833193186, 0.05692033478030083]\n",
      "[0.13745475131598905, 0.17684545387653905, 0.18224816110825992, 0.13809289234485336, 0.20371135188064735, 0.15973230650874276, 0.1463925979677907, 0.10711428761859518, 0.13765945670659346, 0.14943933570157586, 0.16026131720220135, 0.13771840231019966, 0.10411631571745744, 0.1125510389670124]\n"
     ]
    }
   ],
   "source": [
    "#Crear listas que contengan: archivo csv, nombre de lineas y listas con los flujos de interes\n",
    "lista_csv=[A549,HCT116,HL60,HUH7,MCF7,MDAMB231,NB4,PANC1,PC3,SAOS2,SW480,U251MG,U2OS,U937]\n",
    "lista_line=[\"A549\",\"HCT116\",\"HL60\",\"HUH7\",\"MCF7\",\"MDAMB231\",\"NB4\",\"PANC1\",\"PC3\",\"SAOS2\",\"SW480\",\"U251MG\",\"U2OS\",\"U937\"]\n",
    "lista_glc_pred=[]\n",
    "lista_PAC=[]\n",
    "\n",
    "for name in lista_csv:\n",
    "    lista_glc_pred.append(name[\"0\"][5058]) #5058 lugar donde se encuentra el flujo R_EX_glc\n",
    "    lista_PAC.append(name[\"0\"][10604]) #10604 lugar donde se encuentra el flujo R_EX_PAC\n",
    "\n",
    "print(lista_PAC)\n",
    "print(lista_glc_pred)"
   ]
  },
  {
   "cell_type": "code",
   "execution_count": 18,
   "id": "a34a1361",
   "metadata": {},
   "outputs": [
    {
     "name": "stdout",
     "output_type": "stream",
     "text": [
      "R_EX_gal_e\n",
      "0.022960382448848262\n"
     ]
    }
   ],
   "source": [
    "print(MDAMB231[\"Unnamed: 0\"][3691])\n",
    "print(MDAMB231[\"0\"][3691]) #Posición y clave RX galactosa"
   ]
  },
  {
   "cell_type": "code",
   "execution_count": 19,
   "id": "3744914f",
   "metadata": {},
   "outputs": [
    {
     "name": "stdout",
     "output_type": "stream",
     "text": [
      "R_EX_gal_e\n",
      "0.022490771360636624\n"
     ]
    }
   ],
   "source": [
    "print(SW480[\"Unnamed: 0\"][3691])\n",
    "print(SW480[\"0\"][3691]) #Posición y clave RX galactosa"
   ]
  },
  {
   "cell_type": "code",
   "execution_count": 20,
   "id": "9910c2c7",
   "metadata": {},
   "outputs": [
    {
     "name": "stdout",
     "output_type": "stream",
     "text": [
      "[11.25, 7.5, 11.25, 11.25, 11.25, 0, 5, 11.25, 11.25, 7.5, 0, 11.25, 11.25, 5]\n",
      "[0.022960382448848262, 0.022490771360636624]\n"
     ]
    }
   ],
   "source": [
    "dicc_medium={\"DMEM\":11.25,\"RPMI\":5,\"L15\":0,\"IMM\":11.25,\"McCOY5A\":7.5}\n",
    "dicc_line_withmedium={\"DMEM\":[\"A549\",\"HUH7\",\"MCF7\",\"PANC1\",\"PC3\",\"U251MG\",\"U2OS\"],\"RPMI\":[\"NB4\",\"U937\"],\"L15\":[\"MDAMB231\",\"SW480\"],\"IMM\":[\"HL60\"],\"McCOY5A\":[\"HCT116\",\"SAOS2\"]}\n",
    "dicc_gal={\"MDAMB231\":0.022960382448848262,\"SW480\":0.022490771360636624}\n",
    "\n",
    "lista_glc_exp=[]\n",
    "lista_gal_pred=[]\n",
    "\n",
    "for names in lista_line:\n",
    "    for medium,line in dicc_line_withmedium.items():\n",
    "        for name in line:\n",
    "            if names==name:\n",
    "                lista_glc_exp.append(dicc_medium[medium])\n",
    "            if names==\"MDAMB231\" or names==\"SW480\":\n",
    "                if dicc_gal[names] not in lista_gal_pred:\n",
    "                    lista_gal_pred.append(dicc_gal[names])\n",
    "                \n",
    "print(lista_glc_exp)                \n",
    "print(lista_gal_pred)"
   ]
  },
  {
   "cell_type": "code",
   "execution_count": 21,
   "id": "0b404828",
   "metadata": {
    "scrolled": true
   },
   "outputs": [
    {
     "name": "stdout",
     "output_type": "stream",
     "text": [
      "[81.84511551832675, 42.40991122811654, 61.729017903874606, 81.46690107631221, 55.22519926425737, 39.19795334442026, 34.15473233899504, 105.02800560143935, 81.7234083959679, 50.187589263493436, 40.016413202047005, 81.68842951474471, 108.0522291100787, 44.4242900455628]\n"
     ]
    }
   ],
   "source": [
    "#glc_exp*PAC/glc_pred\n",
    "alfa=[] # si glc_exp/glc_pred = 0, alfa2 = (lista_gal_exp/lista_gal_pred) \n",
    "j=0\n",
    "for i in range(14):\n",
    "    glc_exp=lista_glc_exp[i]\n",
    "    glc_pred=lista_glc_pred[i]\n",
    "    calculated=((glc_exp/glc_pred))\n",
    "    #print(i,calculated)\n",
    "    if calculated==0:\n",
    "        alfa.append(0.9/lista_gal_pred[j]) \n",
    "        j+=1\n",
    "    else: \n",
    "        alfa.append(calculated)\n",
    "print(alfa)\n",
    "    \n",
    "    "
   ]
  },
  {
   "cell_type": "code",
   "execution_count": 22,
   "id": "eb579d7c",
   "metadata": {},
   "outputs": [
    {
     "name": "stdout",
     "output_type": "stream",
     "text": [
      "11.25\n",
      "7.499999999999999\n",
      "11.25\n",
      "11.25\n",
      "11.25\n",
      "6.261179498126336\n",
      "5.0\n",
      "11.25\n",
      "11.249999999999998\n",
      "7.5\n",
      "6.413083089467613\n",
      "11.25\n",
      "11.25\n",
      "5.0\n"
     ]
    }
   ],
   "source": [
    "#Multiplicar por el vector que contiene todas las predicciones de pheflux\n",
    "def multiplicar_vector(lista,alfa):\n",
    "    lista_vacia=[]\n",
    "    for numero in lista:\n",
    "        lista_vacia.append(numero*alfa)\n",
    "    return lista_vacia\n",
    "\n",
    "\n",
    "\n",
    "dicc_all={}\n",
    "j=0\n",
    "for name in lista_csv:\n",
    "    all_fluxes=[]\n",
    "    for i in name[\"0\"]:\n",
    "        all_fluxes.append(name[\"0\"][i])\n",
    "    dicc_all[lista_line[j]]=all_fluxes\n",
    "    j+=1\n",
    "        #for flux in range (len(lista_csv)):\n",
    "            #all_fluxes.append(lista_csv[flux])\n",
    "\n",
    "\n",
    "dicc_all_new={} \n",
    "pos=0\n",
    "for i,k in dicc_all.items():\n",
    "        dicc_all_new[lista_line[pos]]=multiplicar_vector(k,alfa[pos])\n",
    "        pos+=1\n",
    "\n",
    "#Multiplicando alfa por EX_glc__D_e \n",
    "for l,p in dicc_all_new.items():\n",
    "    flux_glu= p[5058]\n",
    "    print(flux_glu)\n",
    "\n",
    "\n",
    "\n"
   ]
  },
  {
   "cell_type": "code",
   "execution_count": 25,
   "id": "b58cfd20",
   "metadata": {
    "scrolled": true
   },
   "outputs": [
    {
     "name": "stdout",
     "output_type": "stream",
     "text": [
      "4.307689621080561\n",
      "2.18897955443088\n",
      "2.8285140617541282\n",
      "3.7584613925068484\n",
      "4.203502814835019\n",
      "0.9\n",
      "1.5774281427917713\n",
      "5.349078105477409\n",
      "4.288870550911878\n",
      "2.258235797482952\n",
      "0.9000000000000001\n",
      "4.216500050105873\n",
      "5.7632502566567805\n",
      "2.003424529032885\n"
     ]
    }
   ],
   "source": [
    "#Multiplicando alfa por EX_gal_e \n",
    "for l,p in dicc_all_new.items():\n",
    "    flux_glu= p[3691]\n",
    "    print(flux_glu)"
   ]
  },
  {
   "cell_type": "code",
   "execution_count": null,
   "id": "21ebc03c",
   "metadata": {},
   "outputs": [],
   "source": [
    "#Haciendo la validación de las lineas 24 y 25. Los Alfa estan bien calculados."
   ]
  },
  {
   "cell_type": "code",
   "execution_count": 27,
   "id": "52ec394f",
   "metadata": {
    "scrolled": true
   },
   "outputs": [
    {
     "name": "stdout",
     "output_type": "stream",
     "text": [
      "[4.833546060649168, 2.31339059134006, 2.9377624465963756, 5.2642776347847535, 2.846727533380338, 2.455641139361257, 1.819693973916475, 6.823066023297882, 5.037819160608287, 3.199987448816359, 2.3438761846930913, 5.124481356893206, 4.706539301709647, 2.52864546177062]\n"
     ]
    }
   ],
   "source": [
    "#Multiplicando alfa por EX_PAC y guardando en una lista los valores\n",
    "flux_PAC_final=[]\n",
    "for l,p in dicc_all_new.items():\n",
    "    flux_PAC_final.append(p[10604])\n",
    "print(flux_PAC_final)"
   ]
  },
  {
   "cell_type": "code",
   "execution_count": 28,
   "id": "98365c9e",
   "metadata": {},
   "outputs": [
    {
     "name": "stdout",
     "output_type": "stream",
     "text": [
      "Coef. Pearson:\n",
      "(0.8407007548880217, 0.0001658495667464713)\n"
     ]
    },
    {
     "data": {
      "image/png": "[encoded data removed]",
      "text/plain": [
       "<Figure size 432x288 with 1 Axes>"
      ]
     },
     "metadata": {
      "needs_background": "light"
     },
     "output_type": "display_data"
    }
   ],
   "source": [
    "#RESULTADO CON MÉTODO SHEN (FIJANDO VALORES DE CADA MEDIO PARA LAS DIFERENTES LINEAS CELULARES)\n",
    "x=flux_PAC_final\n",
    "y=acetlevel[0,:]\n",
    "\n",
    "plt.scatter(x,y,color=\"chocolate\",edgecolors='black',s=30)\n",
    "plt.title('Fig. 3B Shen et al.',fontsize = 10,fontweight = \"bold\")\n",
    "plt.xlabel('Acetylation flux')\n",
    "plt.ylabel('Bulk H3K9 Acetylation')\n",
    "\n",
    "r=stats.pearsonr(x, y)\n",
    "\n",
    "print(\"Coef. Pearson:\")\n",
    "print(r)\n",
    "\n",
    "for i in range(14):\n",
    "    plt.text(x[i],y[i],lista_line[i],fontsize = 8)\n",
    "    \n",
    "\n",
    "\n",
    "\n",
    "plt.grid()\n",
    "plt.show()"
   ]
  },
  {
   "cell_type": "code",
   "execution_count": null,
   "id": "47b318e3",
   "metadata": {},
   "outputs": [],
   "source": []
  }
 ],
 "metadata": {
  "kernelspec": {
   "display_name": "Python 3 (ipykernel)",
   "language": "python",
   "name": "python3"
  },
  "language_info": {
   "codemirror_mode": {
    "name": "ipython",
    "version": 3
   },
   "file_extension": ".py",
   "mimetype": "text/x-python",
   "name": "python",
   "nbconvert_exporter": "python",
   "pygments_lexer": "ipython3",
   "version": "3.8.3"
  }
 },
 "nbformat": 4,
 "nbformat_minor": 5
}
