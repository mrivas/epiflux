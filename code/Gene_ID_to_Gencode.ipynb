{
 "cells": [
  {
   "cell_type": "code",
   "execution_count": 19,
   "metadata": {},
   "outputs": [],
   "source": [
    "import glob\n",
    "import pandas as pd\n",
    "import numpy as np\n",
    "import time"
   ]
  },
  {
   "cell_type": "markdown",
   "metadata": {},
   "source": [
    "# Process TCGA files\n",
    "\n",
    "    The FPKM files from TCGA contain the 'Gene stable ID version' of each gene and its expression, but this IDs is not found in the metabolic model. For this reason, we added a \"Gene_ID\" column to the file containing the 'Gene_name' present in the metabolic model. \n",
    "\n",
    "    Unlike the validation files, adding the IDs of the genes present in the metabolic model is confusing and dificult, because in the model the same gene, e.g. the gene \"SULT1A1\" , contains five IDs (\"6817_AT1\", ..., \"6817_AT5\"). Therefore, the gene names were saved instead of the IDs. This is corrected in the PheFlux script using reloadFPKMHsapiens() function.  \n",
    "\n",
    "    *The name of \"Gene_ID\" column is kept even though it contain the name of the genes."
   ]
  },
  {
   "cell_type": "markdown",
   "metadata": {},
   "source": [
    "### Add \"Gene_ID\" column to FPKM files"
   ]
  },
  {
   "cell_type": "code",
   "execution_count": 20,
   "metadata": {},
   "outputs": [],
   "source": [
    "# Load Data\n",
    "##########################################################\n",
    "# load dict Gencode -> Gene_ID\n",
    "dictFile = 'Hsapiens_ENSGtonames.csv'\n",
    "dic = pd.read_csv(dictFile, sep='\\t', lineterminator='\\n', index_col=0).to_dict()['Gene_name']\n",
    "\n",
    "##########################################################\n",
    "# load FPKM file\n",
    "files = glob.glob(\"/home/bguzman/jupyter/UI/pheflux/data/lineas2022/*.txt\") #glo.glob recopila todos los archivos, en este caso con la extension .txt"
   ]
  },
  {
   "cell_type": "code",
   "execution_count": 21,
   "metadata": {},
   "outputs": [
    {
     "data": {
      "text/plain": [
       "['/home/bguzman/jupyter/UI/pheflux/data/lineas2022/2_PC9_ENCFF877GJA.txt',\n",
       " '/home/bguzman/jupyter/UI/pheflux/data/lineas2022/2_PC3_ENCFF200VPR.txt',\n",
       " '/home/bguzman/jupyter/UI/pheflux/data/lineas2022/2_MEL_ENCFF199TJO.txt',\n",
       " '/home/bguzman/jupyter/UI/pheflux/data/lineas2022/2_MCF7_ENCFF721BRA.txt',\n",
       " '/home/bguzman/jupyter/UI/pheflux/data/lineas2022/2_Karpas422_ENCFF257LZM.txt',\n",
       " '/home/bguzman/jupyter/UI/pheflux/data/lineas2022/2_K562_ENCFF928NYA.txt',\n",
       " '/home/bguzman/jupyter/UI/pheflux/data/lineas2022/2_IMR90_ENCFF019KLP.txt',\n",
       " '/home/bguzman/jupyter/UI/pheflux/data/lineas2022/2_HepG2ENCFF773JNC.txt',\n",
       " '/home/bguzman/jupyter/UI/pheflux/data/lineas2022/2_HCT116_ENCFF435PHM.txt',\n",
       " '/home/bguzman/jupyter/UI/pheflux/data/lineas2022/2_H9_ENCFF216CFE.txt',\n",
       " '/home/bguzman/jupyter/UI/pheflux/data/lineas2022/2_H7_ENCFF199UNP.txt',\n",
       " '/home/bguzman/jupyter/UI/pheflux/data/lineas2022/2_H1_ENCFF816ERP.txt',\n",
       " '/home/bguzman/jupyter/UI/pheflux/data/lineas2022/2_GM23248_ENCFF185CZL.txt',\n",
       " '/home/bguzman/jupyter/UI/pheflux/data/lineas2022/2_GM12878_ENCFF345SHY.txt',\n",
       " '/home/bguzman/jupyter/UI/pheflux/data/lineas2022/2_ESE14_ENCFF827OZU.txt',\n",
       " '/home/bguzman/jupyter/UI/pheflux/data/lineas2022/2_CH12LX_ENCFF020VGN.txt']"
      ]
     },
     "execution_count": 21,
     "metadata": {},
     "output_type": "execute_result"
    }
   ],
   "source": [
    "files"
   ]
  },
  {
   "cell_type": "code",
   "execution_count": 26,
   "metadata": {},
   "outputs": [
    {
     "name": "stdout",
     "output_type": "stream",
     "text": [
      "Hello world!\n",
      "File ID: lineas2022\n",
      "\t...is processed.\n",
      "\n",
      "Average time per file: 122.74015688896179 s\n",
      "Total process time: 2.0456824978192647 min\n"
     ]
    }
   ],
   "source": [
    "print ('Hello world!')\n",
    "processStart = time.time()\n",
    "times = []\n",
    "for file in files:\n",
    "    fileStart = time.time()\n",
    "    print ('File ID:', file.split('/')[-2])\n",
    "    #########################################################################################\n",
    "    # load fpkm data from TCGA file\n",
    "    data = pd.read_csv(file, sep='\\t', lineterminator='\\n', header=None, prefix='Column_')\n",
    "    #print(data)\n",
    "    fpkmFile = pd.DataFrame(columns=['Gencode', 'Gene_ID', 'Expression'])\n",
    "    #########################################################################################\n",
    "    # add gene name ('Gene_ID') to the TCGA file\n",
    "    for i in range(len(data)):\n",
    "        gencode = data['Column_0'][i]          # ENSGXXXXXXXXXXXX.X\n",
    "        gencodesplit = gencode.split('.')[0]   # ENSGXXXXXXXXXXXX\n",
    "        fpkm = data['Column_1'][i]\n",
    "        if gencodesplit in dic:\n",
    "            gene_id = dic[gencodesplit]\n",
    "        else:continue\n",
    "#             gene_id = 'NA'\n",
    "        #############################################################\n",
    "        # load info in new file\n",
    "        values = [gencode, gene_id, fpkm]\n",
    "        fpkmFile.loc[fpkmFile.shape[0]] = values\n",
    "    #########################################################################################  \n",
    "    # export new file\n",
    "    fpkmFile.to_csv(\"file_fpkm.csv\", sep='\\t',index=None)\n",
    "    print ('\\t...is processed.') \n",
    "    #########################################################################################\n",
    "    # time for file\n",
    "    fileFinish = time.time()\n",
    "    fileTime = fileFinish - fileStart\n",
    "    times.append(fileTime)\n",
    "    break\n",
    "#########################################################################################\n",
    "processFinish = time.time()\n",
    "processTime = processFinish - processStart\n",
    "print ('')\n",
    "print ('Average time per file:', np.mean(times), 's')\n",
    "print ('Total process time:', processTime/60, 'min')"
   ]
  },
  {
   "cell_type": "code",
   "execution_count": 24,
   "metadata": {},
   "outputs": [
    {
     "data": {
      "text/html": [
       "<div>\n",
       "<style scoped>\n",
       "    .dataframe tbody tr th:only-of-type {\n",
       "        vertical-align: middle;\n",
       "    }\n",
       "\n",
       "    .dataframe tbody tr th {\n",
       "        vertical-align: top;\n",
       "    }\n",
       "\n",
       "    .dataframe thead th {\n",
       "        text-align: right;\n",
       "    }\n",
       "</style>\n",
       "<table border=\"1\" class=\"dataframe\">\n",
       "  <thead>\n",
       "    <tr style=\"text-align: right;\">\n",
       "      <th></th>\n",
       "      <th>Column_0</th>\n",
       "      <th>Column_1</th>\n",
       "    </tr>\n",
       "  </thead>\n",
       "  <tbody>\n",
       "    <tr>\n",
       "      <th>0</th>\n",
       "      <td>gene_id</td>\n",
       "      <td>FPKM\\r</td>\n",
       "    </tr>\n",
       "    <tr>\n",
       "      <th>1</th>\n",
       "      <td>10904</td>\n",
       "      <td>0.00\\r</td>\n",
       "    </tr>\n",
       "    <tr>\n",
       "      <th>2</th>\n",
       "      <td>12954</td>\n",
       "      <td>0.00\\r</td>\n",
       "    </tr>\n",
       "    <tr>\n",
       "      <th>3</th>\n",
       "      <td>12956</td>\n",
       "      <td>0.00\\r</td>\n",
       "    </tr>\n",
       "    <tr>\n",
       "      <th>4</th>\n",
       "      <td>12958</td>\n",
       "      <td>0.00\\r</td>\n",
       "    </tr>\n",
       "  </tbody>\n",
       "</table>\n",
       "</div>"
      ],
      "text/plain": [
       "  Column_0 Column_1\n",
       "0  gene_id   FPKM\\r\n",
       "1    10904   0.00\\r\n",
       "2    12954   0.00\\r\n",
       "3    12956   0.00\\r\n",
       "4    12958   0.00\\r"
      ]
     },
     "execution_count": 24,
     "metadata": {},
     "output_type": "execute_result"
    }
   ],
   "source": [
    "data[:5]"
   ]
  },
  {
   "cell_type": "code",
   "execution_count": 25,
   "metadata": {},
   "outputs": [
    {
     "data": {
      "text/html": [
       "<div>\n",
       "<style scoped>\n",
       "    .dataframe tbody tr th:only-of-type {\n",
       "        vertical-align: middle;\n",
       "    }\n",
       "\n",
       "    .dataframe tbody tr th {\n",
       "        vertical-align: top;\n",
       "    }\n",
       "\n",
       "    .dataframe thead th {\n",
       "        text-align: right;\n",
       "    }\n",
       "</style>\n",
       "<table border=\"1\" class=\"dataframe\">\n",
       "  <thead>\n",
       "    <tr style=\"text-align: right;\">\n",
       "      <th></th>\n",
       "      <th>Gencode</th>\n",
       "      <th>Gene_ID</th>\n",
       "      <th>Expression</th>\n",
       "    </tr>\n",
       "  </thead>\n",
       "  <tbody>\n",
       "    <tr>\n",
       "      <th>0</th>\n",
       "      <td>ENSG00000000003.14</td>\n",
       "      <td>TSPAN6</td>\n",
       "      <td>24.12\\r</td>\n",
       "    </tr>\n",
       "    <tr>\n",
       "      <th>1</th>\n",
       "      <td>ENSG00000000005.5</td>\n",
       "      <td>TNMD</td>\n",
       "      <td>0.00\\r</td>\n",
       "    </tr>\n",
       "    <tr>\n",
       "      <th>2</th>\n",
       "      <td>ENSG00000000419.12</td>\n",
       "      <td>DPM1</td>\n",
       "      <td>32.65\\r</td>\n",
       "    </tr>\n",
       "    <tr>\n",
       "      <th>3</th>\n",
       "      <td>ENSG00000000457.13</td>\n",
       "      <td>SCYL3</td>\n",
       "      <td>3.61\\r</td>\n",
       "    </tr>\n",
       "    <tr>\n",
       "      <th>4</th>\n",
       "      <td>ENSG00000000460.16</td>\n",
       "      <td>C1orf112</td>\n",
       "      <td>11.27\\r</td>\n",
       "    </tr>\n",
       "  </tbody>\n",
       "</table>\n",
       "</div>"
      ],
      "text/plain": [
       "              Gencode   Gene_ID Expression\n",
       "0  ENSG00000000003.14    TSPAN6    24.12\\r\n",
       "1   ENSG00000000005.5      TNMD     0.00\\r\n",
       "2  ENSG00000000419.12      DPM1    32.65\\r\n",
       "3  ENSG00000000457.13     SCYL3     3.61\\r\n",
       "4  ENSG00000000460.16  C1orf112    11.27\\r"
      ]
     },
     "execution_count": 25,
     "metadata": {},
     "output_type": "execute_result"
    }
   ],
   "source": [
    "fpkmFile[:5]"
   ]
  }
 ],
 "metadata": {
  "kernelspec": {
   "display_name": "Python 3 (ipykernel)",
   "language": "python",
   "name": "python3"
  },
  "language_info": {
   "codemirror_mode": {
    "name": "ipython",
    "version": 3
   },
   "file_extension": ".py",
   "mimetype": "text/x-python",
   "name": "python",
   "nbconvert_exporter": "python",
   "pygments_lexer": "ipython3",
   "version": "3.8.3"
  }
 },
 "nbformat": 4,
 "nbformat_minor": 2
}
