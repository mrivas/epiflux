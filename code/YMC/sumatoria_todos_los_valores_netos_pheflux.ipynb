{
 "cells": [
  {
   "cell_type": "code",
   "execution_count": 55,
   "id": "2dc5f3bb",
   "metadata": {},
   "outputs": [],
   "source": [
    "#Importar librerias\n",
    "import pandas as pd\n",
    "import numpy as np\n",
    "import matplotlib.pyplot as plt\n",
    "import scipy.io\n",
    "import cobra\n",
    "import seaborn as sns"
   ]
  },
  {
   "cell_type": "code",
   "execution_count": 20,
   "id": "60b12589",
   "metadata": {},
   "outputs": [],
   "source": [
    "#cargar como dicc para sacar la info de los flujos de EX_PAC, EX_PME, EX_glc \n",
    "T1= pd.read_csv(\"/home/bguzman/jupyter/UI/YMC/results/T_all_with_media_kuang_mod_al_rx_ac_me_dic/T1_Solve_Succeeded.csv\", sep=\"\\t\", lineterminator='\\n', squeeze=True).to_dict()\n",
    "T2= pd.read_csv(\"/home/bguzman/jupyter/UI/YMC/results/T_all_with_media_kuang_mod_al_rx_ac_me_dic/T2_Solve_Succeeded.csv\", sep=\"\\t\", lineterminator='\\n', squeeze=True).to_dict()\n",
    "T3= pd.read_csv(\"/home/bguzman/jupyter/UI/YMC/results/T_all_with_media_kuang_mod_al_rx_ac_me_dic/T3_Solve_Succeeded.csv\", sep=\"\\t\", lineterminator='\\n', squeeze=True).to_dict()\n",
    "T4= pd.read_csv(\"/home/bguzman/jupyter/UI/YMC/results/T_all_with_media_kuang_mod_al_rx_ac_me_dic/T4_Solve_Succeeded.csv\", sep=\"\\t\", lineterminator='\\n', squeeze=True).to_dict()\n",
    "T5= pd.read_csv(\"/home/bguzman/jupyter/UI/YMC/results/T_all_with_media_kuang_mod_al_rx_ac_me_dic/T5_Solve_Succeeded.csv\", sep=\"\\t\", lineterminator='\\n', squeeze=True).to_dict()\n",
    "T6= pd.read_csv(\"/home/bguzman/jupyter/UI/YMC/results/T_all_with_media_kuang_mod_al_rx_ac_me_dic/T6_Solve_Succeeded.csv\", sep=\"\\t\", lineterminator='\\n', squeeze=True).to_dict()\n",
    "T7= pd.read_csv(\"/home/bguzman/jupyter/UI/YMC/results/T_all_with_media_kuang_mod_al_rx_ac_me_dic/T7_Solve_Succeeded.csv\", sep=\"\\t\", lineterminator='\\n', squeeze=True).to_dict()\n",
    "T8= pd.read_csv(\"/home/bguzman/jupyter/UI/YMC/results/T_all_with_media_kuang_mod_al_rx_ac_me_dic/T8_Solve_Succeeded.csv\", sep=\"\\t\", lineterminator='\\n', squeeze=True).to_dict()\n",
    "T9= pd.read_csv(\"/home/bguzman/jupyter/UI/YMC/results/T_all_with_media_kuang_mod_al_rx_ac_me_dic/T9_Solve_Succeeded.csv\", sep=\"\\t\", lineterminator='\\n', squeeze=True).to_dict()\n",
    "T10= pd.read_csv(\"/home/bguzman/jupyter/UI/YMC/results/T_all_with_media_kuang_mod_al_rx_ac_me_dic/T10_Solve_Succeeded.csv\", sep=\"\\t\", lineterminator='\\n', squeeze=True).to_dict()\n",
    "T11= pd.read_csv(\"/home/bguzman/jupyter/UI/YMC/results/T_all_with_media_kuang_mod_al_rx_ac_me_dic/T11_Solve_Succeeded.csv\", sep=\"\\t\", lineterminator='\\n', squeeze=True).to_dict()\n",
    "T12= pd.read_csv(\"/home/bguzman/jupyter/UI/YMC/results/T_all_with_media_kuang_mod_al_rx_ac_me_dic/T12_Solve_Succeeded.csv\", sep=\"\\t\", lineterminator='\\n', squeeze=True).to_dict()\n",
    "T13= pd.read_csv(\"/home/bguzman/jupyter/UI/YMC/results/T_all_with_media_kuang_mod_al_rx_ac_me_dic/T13_Solve_Succeeded.csv\", sep=\"\\t\", lineterminator='\\n', squeeze=True).to_dict()\n",
    "T14= pd.read_csv(\"/home/bguzman/jupyter/UI/YMC/results/T_all_with_media_kuang_mod_al_rx_ac_me_dic/T14_Solve_Succeeded.csv\", sep=\"\\t\", lineterminator='\\n', squeeze=True).to_dict()\n",
    "T15= pd.read_csv(\"/home/bguzman/jupyter/UI/YMC/results/T_all_with_media_kuang_mod_al_rx_ac_me_dic/T15_Solve_Succeeded.csv\", sep=\"\\t\", lineterminator='\\n', squeeze=True).to_dict()\n",
    "T16=pd.read_csv(\"/home/bguzman/jupyter/UI/YMC/results/T_all_with_media_kuang_mod_al_rx_ac_me_dic/T16_Solve_Succeeded.csv\", sep=\"\\t\", lineterminator='\\n', squeeze=True).to_dict()"
   ]
  },
  {
   "cell_type": "code",
   "execution_count": 21,
   "id": "388fdef4",
   "metadata": {},
   "outputs": [],
   "source": [
    "#Contruir listas para poder recorrerlas\n",
    "lista_csv=[T1,T2,T3,T4,T5,T6,T7,T8,T9,T10,T11,T12,T13,T14,T15,T16] #contiene archivos\n",
    "lista_time=[\"T1\",\"T2\",\"T3\",\"T4\",\"T5\",\"T6\",\"T7\",\"T8\",\"T9\",\"T10\",\"T11\",\"T12\",\"T13\",\"T14\",\"T15\",\"T16\"] "
   ]
  },
  {
   "cell_type": "code",
   "execution_count": 40,
   "id": "8bdd7b35",
   "metadata": {
    "scrolled": true
   },
   "outputs": [
    {
     "name": "stdout",
     "output_type": "stream",
     "text": [
      "[3.131786715355034, 3.078964351745287, 2.955056436474797, 3.1289613281964868, 2.4675516812794624, 2.6754007965851057, 2.8230973058639104, 2.898107417138219, 2.987264057173061, 2.9843933528131736, 3.0490717307463417, 2.733608499959202, 2.7568813837283774, 2.777096028924891, 2.982989022662297, 3.1592129199244066]\n",
      "[0.6758870397881525, 0.6749814966749389, 0.6878444246719666, 0.6747044777747184, 0.6464324209705821, 0.689081673945596, 0.7149630567936321, 0.7292556961370001, 0.7373988933497793, 0.7048771472827317, 0.7339897267172992, 0.6934007706912948, 0.7268281926757245, 0.6958084299919897, 0.7089065906685473, 0.6846246628070362]\n",
      "[0.005806129859529879, 0.0052793111230782, 0.005712805891671933, 0.005338786086428027, 0.0026602836859206088, 0.0029001292885267155, 0.0035933885619822154, 0.00403740138409522, 0.003923540705106463, 0.004204699298459156, 0.005133560391593622, 0.0059592616842641865, 0.005233743765932289, 0.00633206754711752, 0.006995072667479536, 0.007007848722149257]\n"
     ]
    }
   ],
   "source": [
    "#listas para guardar los valores de los flujos para c/rx\n",
    "lista_glc=[]\n",
    "lista_PAC=[]\n",
    "lista_PME=[]\n",
    "\n",
    "def buscar_posicion(file_csv,name_reaction):\n",
    "\n",
    "    for posicion,name in file_csv[\"Unnamed: 0\"].items():\n",
    "        if name== name_reaction :\n",
    "            return (posicion)\n",
    "    return (\"Not found\")\n",
    "\n",
    "def buscar_valor(file_csv,name_reaction):\n",
    "    posicion= buscar_posicion(file_csv,name_reaction)\n",
    "    return file_csv[\"0\"][posicion]\n",
    "\n",
    "for name_csv in lista_csv:\n",
    "    lista_PAC.append(abs(buscar_valor(name_csv,\"R_EX_PAC\")))\n",
    "    lista_glc.append(abs(buscar_valor(name_csv,\"R_EX_glc__D_e\")))\n",
    "    lista_PME.append(abs(buscar_valor(name_csv,\"R_EX_PME\")))\n",
    "    \n",
    "\n",
    "print(lista_glc)\n",
    "print(lista_PME)\n",
    "print(lista_PAC)\n"
   ]
  },
  {
   "cell_type": "code",
   "execution_count": 27,
   "id": "486e0df5",
   "metadata": {},
   "outputs": [],
   "source": [
    "#cargar como df\n",
    "df_T1= pd.read_csv(\"/home/bguzman/jupyter/UI/YMC/results/T_all_with_media_kuang_mod_al_rx_ac_me_dic/T1_Solve_Succeeded.csv\", sep=\"\\t\")\n",
    "df_T2= pd.read_csv(\"/home/bguzman/jupyter/UI/YMC/results/T_all_with_media_kuang_mod_al_rx_ac_me_dic/T2_Solve_Succeeded.csv\", sep=\"\\t\")\n",
    "df_T3= pd.read_csv(\"/home/bguzman/jupyter/UI/YMC/results/T_all_with_media_kuang_mod_al_rx_ac_me_dic/T3_Solve_Succeeded.csv\", sep=\"\\t\")\n",
    "df_T4= pd.read_csv(\"/home/bguzman/jupyter/UI/YMC/results/T_all_with_media_kuang_mod_al_rx_ac_me_dic/T4_Solve_Succeeded.csv\", sep=\"\\t\")\n",
    "df_T5= pd.read_csv(\"/home/bguzman/jupyter/UI/YMC/results/T_all_with_media_kuang_mod_al_rx_ac_me_dic/T5_Solve_Succeeded.csv\", sep=\"\\t\")\n",
    "df_T6= pd.read_csv(\"/home/bguzman/jupyter/UI/YMC/results/T_all_with_media_kuang_mod_al_rx_ac_me_dic/T6_Solve_Succeeded.csv\", sep=\"\\t\")\n",
    "df_T7= pd.read_csv(\"/home/bguzman/jupyter/UI/YMC/results/T_all_with_media_kuang_mod_al_rx_ac_me_dic/T7_Solve_Succeeded.csv\", sep=\"\\t\")\n",
    "df_T8= pd.read_csv(\"/home/bguzman/jupyter/UI/YMC/results/T_all_with_media_kuang_mod_al_rx_ac_me_dic/T8_Solve_Succeeded.csv\", sep=\"\\t\")\n",
    "df_T9= pd.read_csv(\"/home/bguzman/jupyter/UI/YMC/results/T_all_with_media_kuang_mod_al_rx_ac_me_dic/T9_Solve_Succeeded.csv\", sep=\"\\t\")\n",
    "df_T10= pd.read_csv(\"/home/bguzman/jupyter/UI/YMC/results/T_all_with_media_kuang_mod_al_rx_ac_me_dic/T10_Solve_Succeeded.csv\", sep=\"\\t\")\n",
    "df_T11= pd.read_csv(\"/home/bguzman/jupyter/UI/YMC/results/T_all_with_media_kuang_mod_al_rx_ac_me_dic/T11_Solve_Succeeded.csv\", sep=\"\\t\")\n",
    "df_T12= pd.read_csv(\"/home/bguzman/jupyter/UI/YMC/results/T_all_with_media_kuang_mod_al_rx_ac_me_dic/T12_Solve_Succeeded.csv\", sep=\"\\t\")\n",
    "df_T13= pd.read_csv(\"/home/bguzman/jupyter/UI/YMC/results/T_all_with_media_kuang_mod_al_rx_ac_me_dic/T13_Solve_Succeeded.csv\", sep=\"\\t\")\n",
    "df_T14= pd.read_csv(\"/home/bguzman/jupyter/UI/YMC/results/T_all_with_media_kuang_mod_al_rx_ac_me_dic/T14_Solve_Succeeded.csv\", sep=\"\\t\")\n",
    "df_T15= pd.read_csv(\"/home/bguzman/jupyter/UI/YMC/results/T_all_with_media_kuang_mod_al_rx_ac_me_dic/T15_Solve_Succeeded.csv\", sep=\"\\t\")\n",
    "df_T16=pd.read_csv(\"/home/bguzman/jupyter/UI/YMC/results/T_all_with_media_kuang_mod_al_rx_ac_me_dic/T16_Solve_Succeeded.csv\", sep=\"\\t\")"
   ]
  },
  {
   "cell_type": "code",
   "execution_count": 28,
   "id": "11d99e2d",
   "metadata": {},
   "outputs": [],
   "source": [
    "#Contruir listas para poder recorrerlas\n",
    "lista_df=[df_T1,df_T2,df_T3,df_T4,df_T5,df_T6,df_T7,df_T8,df_T9,df_T10,df_T11,df_T12,df_T13,df_T14,df_T15,df_T16] #contiene archivos\n",
    "#lista_time=[\"T1\",\"T2\",\"T3\",\"T4\",\"T5\",\"T6\",\"T7\",\"T8\",\"T9\",\"T10\",\"T11\",\"T12\",\"T13\",\"T14\",\"T15\",\"T16\"] #contiene nombres de lineas"
   ]
  },
  {
   "cell_type": "code",
   "execution_count": 37,
   "id": "22f49448",
   "metadata": {},
   "outputs": [
    {
     "data": {
      "text/plain": [
       "[78.75634724079302,\n",
       " 70.75306848194653,\n",
       " 82.69842955138894,\n",
       " 74.34526658794391,\n",
       " 59.265077230147156,\n",
       " 56.150260236050286,\n",
       " 60.2993532783086,\n",
       " 63.8399036077916,\n",
       " 64.0869228263246,\n",
       " 64.23642295423,\n",
       " 66.23089139607522,\n",
       " 68.93601825493046,\n",
       " 61.24217737693356,\n",
       " 65.57216504278074,\n",
       " 63.504540045125715,\n",
       " 82.34789165211208]"
      ]
     },
     "execution_count": 37,
     "metadata": {},
     "output_type": "execute_result"
    }
   ],
   "source": [
    "lista_vi=[]\n",
    "for flux in lista_df:\n",
    "    lista_vi.append(abs(flux[\"0\"].sum()))\n",
    "    \n",
    "lista_vi"
   ]
  },
  {
   "cell_type": "code",
   "execution_count": 47,
   "id": "49c4b2e9",
   "metadata": {},
   "outputs": [
    {
     "name": "stdout",
     "output_type": "stream",
     "text": [
      "[0.008582000860472446, 0.009539960755866982, 0.008317502864362605, 0.009075284933931905, 0.010907476226855445, 0.01227210116300019, 0.011856894277020791, 0.011423195445551945, 0.01150623030143183, 0.010973169346384273, 0.01108228669802857, 0.010058613599164486, 0.011868098487129873, 0.010611338355810409, 0.011163085193039822, 0.008313809243584644]\n"
     ]
    }
   ],
   "source": [
    "#Determinar el alfa para cada tiempo muestral\n",
    "alfa_sam=[]\n",
    "for i in range(16):\n",
    "    PME=lista_PME[i]\n",
    "    vi=lista_vi[i]     \n",
    "    alfa_sam.append(PME/vi)\n",
    "     \n",
    "print(alfa_sam)"
   ]
  },
  {
   "cell_type": "code",
   "execution_count": 51,
   "id": "7931cdb5",
   "metadata": {},
   "outputs": [],
   "source": [
    "import csv\n",
    "dict = {'T1': alfa_sam[0], 'T2': alfa_sam[1], 'T3': alfa_sam[2], 'T4': alfa_sam[3],'T5': alfa_sam[4],'T6': alfa_sam[5],'T7':alfa_sam[6],'T8':alfa_sam[7],'T9':alfa_sam[8],'T10': alfa_sam[9],'T11': alfa_sam[10],'T12': alfa_sam[11],'T13':alfa_sam[12],'T14': alfa_sam[13],'T15': alfa_sam[14],'T16':alfa_sam[15]} \n",
    "df_sam = pd.DataFrame([dict]) \n",
    "df_sam.index = ['EX_Pme/vi']\n",
    "df_sam.to_csv('vectorME_allflux.csv')"
   ]
  },
  {
   "cell_type": "code",
   "execution_count": 52,
   "id": "5c6beb8b",
   "metadata": {},
   "outputs": [
    {
     "name": "stdout",
     "output_type": "stream",
     "text": [
      "[7.372269109660418e-05, 7.461600233529486e-05, 6.907998038973625e-05, 7.18107060671134e-05, 4.4887880185995384e-05, 5.1649436286401015e-05, 5.959248924938072e-05, 6.324259837388695e-05, 6.122217344932053e-05, 6.545662266180522e-05, 7.75100603869848e-05, 8.644627054359884e-05, 8.545979241919543e-05, 9.656639433799903e-05, 0.00011015074926153161, 8.510052390599993e-05]\n"
     ]
    }
   ],
   "source": [
    "#Determinar el alfa para cada tiempo muestral\n",
    "alfa_acoa=[]\n",
    "for i in range(16):\n",
    "    PAC=lista_PAC[i]\n",
    "    vi=lista_vi[i]     \n",
    "    alfa_acoa.append(PAC/vi)\n",
    "     \n",
    "print(alfa_acoa)"
   ]
  },
  {
   "cell_type": "code",
   "execution_count": 53,
   "id": "f011a3f5",
   "metadata": {},
   "outputs": [],
   "source": [
    "import csv\n",
    "dict = {'T1': alfa_acoa[0], 'T2': alfa_acoa[1], 'T3': alfa_acoa[2], 'T4': alfa_acoa[3],'T5': alfa_acoa[4],'T6': alfa_acoa[5],'T7':alfa_acoa[6],'T8':alfa_acoa[7],'T9':alfa_acoa[8],'T10': alfa_acoa[9],'T11': alfa_acoa[10],'T12': alfa_acoa[11],'T13':alfa_acoa[12],'T14': alfa_acoa[13],'T15': alfa_acoa[14],'T16':alfa_acoa[15]} \n",
    "df_acoa = pd.DataFrame([dict]) \n",
    "df_acoa.index = ['EX_Pac/vi']\n",
    "df_acoa.to_csv('vectorAC_allflux.csv')"
   ]
  },
  {
   "cell_type": "code",
   "execution_count": 57,
   "id": "ced566a1",
   "metadata": {},
   "outputs": [
    {
     "data": {
      "image/png": "[encoded data removed]",
      "text/plain": [
       "<Figure size 432x288 with 2 Axes>"
      ]
     },
     "metadata": {
      "needs_background": "light"
     },
     "output_type": "display_data"
    }
   ],
   "source": [
    "# vector de metilacion normalizado por todos los flujos\n",
    "df_norm_row = df_sam.apply(lambda x: (x-x.mean())/x.std(), axis = 1)\n",
    "ax=sns.heatmap(df_norm_row, cmap=sns.color_palette(\"coolwarm\", as_cmap=True)\n",
    ")"
   ]
  },
  {
   "cell_type": "code",
   "execution_count": 58,
   "id": "7af262d0",
   "metadata": {},
   "outputs": [
    {
     "data": {
      "image/png": "[encoded data removed]",
      "text/plain": [
       "<Figure size 432x288 with 2 Axes>"
      ]
     },
     "metadata": {
      "needs_background": "light"
     },
     "output_type": "display_data"
    }
   ],
   "source": [
    "# Vector de acetilacion normalizado por todos los flujos\n",
    "df_norm_row = df_acoa.apply(lambda x: (x-x.mean())/x.std(), axis = 1)\n",
    "ax=sns.heatmap(df_norm_row, cmap=sns.color_palette(\"coolwarm\", as_cmap=True)\n",
    ")"
   ]
  },
  {
   "cell_type": "code",
   "execution_count": 63,
   "id": "f47dccd2",
   "metadata": {},
   "outputs": [
    {
     "data": {
      "image/png": "[encoded data removed]",
      "text/plain": [
       "<Figure size 432x288 with 2 Axes>"
      ]
     },
     "metadata": {
      "needs_background": "light"
     },
     "output_type": "display_data"
    }
   ],
   "source": [
    "import matplotlib.pyplot as plt\n",
    "SAM= alfa_sam\n",
    "ACOA= alfa_acoa\n",
    "fig, axes = plt.subplots()\n",
    "axes.plot(lista_time, SAM, color='b')\n",
    "axes.set_xlabel('Tiempo muestral')\n",
    "axes.set_ylabel('S-adenosyl methionine flux', color='b')\n",
    "twin_axes = axes.twinx() \n",
    "twin_axes.plot(lista_time, ACOA, 'r')\n",
    "twin_axes.set_ylabel('Acetyl-CoA flux', color='r')\n",
    "#plt.show()\n",
    "plt.savefig(\"vectores_samyacoa_all_flux.pdf\")"
   ]
  },
  {
   "cell_type": "code",
   "execution_count": null,
   "id": "e538b9e9",
   "metadata": {},
   "outputs": [],
   "source": []
  }
 ],
 "metadata": {
  "kernelspec": {
   "display_name": "Python 3 (ipykernel)",
   "language": "python",
   "name": "python3"
  },
  "language_info": {
   "codemirror_mode": {
    "name": "ipython",
    "version": 3
   },
   "file_extension": ".py",
   "mimetype": "text/x-python",
   "name": "python",
   "nbconvert_exporter": "python",
   "pygments_lexer": "ipython3",
   "version": "3.8.3"
  }
 },
 "nbformat": 4,
 "nbformat_minor": 5
}
