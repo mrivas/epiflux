{
 "cells": [
  {
   "cell_type": "code",
   "execution_count": 2,
   "id": "967894cd",
   "metadata": {},
   "outputs": [],
   "source": [
    "#Importar librerias\n",
    "import pandas as pd\n",
    "import numpy as np\n",
    "import matplotlib.pyplot as plt\n",
    "import scipy.io\n",
    "import cobra\n",
    "import seaborn as sns"
   ]
  },
  {
   "cell_type": "code",
   "execution_count": 24,
   "id": "2191330f",
   "metadata": {},
   "outputs": [],
   "source": [
    "#Cargar archivos con pandas\n",
    "fpkm=pd.read_csv(\"/home/bguzman/jupyter/UI/YMC/data/KuangRNAseq_fpkm\", sep=\"\\t\",index_col=0) #fpkm kuang 16 tiempos muestrales\n",
    "atac=pd.read_csv(\"/home/bguzman/jupyter/UI/YMC/data/GSE101290_normalized_atac_counts.csv\",index_col=0) #atac-seq 6 tiempos muestrales con replicados\n",
    "OX= pd.read_csv(\"/home/bguzman/jupyter/UI/YMC/data/kuangOX.txt\", sep=\"\\t\") #lista genes OX kuang\n",
    "RB= pd.read_csv(\"/home/bguzman/jupyter/UI/YMC/data/kuangRB.txt\", sep=\"\\t\") #lista genes RB kuang\n",
    "RC= pd.read_csv(\"/home/bguzman/jupyter/UI/YMC/data/kuangRC.txt\", sep=\"\\t\") #lista genes RC kuang\n",
    "SAM=pd.read_csv(\"/home/bguzman/jupyter/UI/YMC/data/vectorME.csv\",index_col=0) #vector SAM solo flujo de metilacion\n",
    "ACOA=pd.read_csv(\"/home/bguzman/jupyter/UI/YMC/data/vectorAC.csv\",index_col=0) #vector ACOA solo flujo de acetilacion\n",
    "SAM_glc=pd.read_csv(\"/home/bguzman/jupyter/UI/YMC/data/vectorME_glc.csv\",index_col=0) #vector SAM normalizacion por glucosa\n",
    "ACOA_glc=pd.read_csv(\"/home/bguzman/jupyter/UI/YMC/data/vectorAC_glc.csv\",index_col=0) #vector ACOA normalizacion por glucosa\n",
    "SAM_all=pd.read_csv(\"/home/bguzman/jupyter/UI/YMC/data/vectorME_allflux.csv\",index_col=0) #vector SAM normalizacion por todos los flujos\n",
    "ACOA_all=pd.read_csv(\"/home/bguzman/jupyter/UI/YMC/data/vectorAC_allflux.csv\",index_col=0) #vector ACOA normalizacion por todos los flujos\n",
    "H3K9ac=pd.read_csv(\"/home/bguzman/jupyter/UI/YMC/analysis/dfi_T_all_ac.csv\", index_col=0) #df de la intensidad de la marca H3K9ac\n",
    "H3K4me3=pd.read_csv(\"/home/bguzman/jupyter/UI/YMC/analysis/dfi_T_all.csv\", index_col=0) #df de la intensidad de la marca H3K4me3"
   ]
  },
  {
   "cell_type": "code",
   "execution_count": null,
   "id": "227ff45e",
   "metadata": {},
   "outputs": [],
   "source": []
  }
 ],
 "metadata": {
  "kernelspec": {
   "display_name": "Python 3 (ipykernel)",
   "language": "python",
   "name": "python3"
  },
  "language_info": {
   "codemirror_mode": {
    "name": "ipython",
    "version": 3
   },
   "file_extension": ".py",
   "mimetype": "text/x-python",
   "name": "python",
   "nbconvert_exporter": "python",
   "pygments_lexer": "ipython3",
   "version": "3.8.3"
  }
 },
 "nbformat": 4,
 "nbformat_minor": 5
}
