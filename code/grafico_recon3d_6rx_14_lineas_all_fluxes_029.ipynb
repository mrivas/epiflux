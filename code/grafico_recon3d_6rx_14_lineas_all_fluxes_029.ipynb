{
 "cells": [
  {
   "cell_type": "code",
   "execution_count": 26,
   "id": "8462c95b",
   "metadata": {},
   "outputs": [],
   "source": [
    "#Importar librerias\n",
    "import pandas as pd\n",
    "import numpy as np\n",
    "import matplotlib.pyplot as plt\n",
    "import scipy.io\n",
    "import cobra"
   ]
  },
  {
   "cell_type": "code",
   "execution_count": 27,
   "id": "e489a940",
   "metadata": {},
   "outputs": [],
   "source": [
    "#Modelo y datos que podrian ser utilizados\n",
    "model = cobra.io.read_sbml_model(\"../../recon3d_6rx.xml\")\n",
    "mat = scipy.io.loadmat('/home/bguzman/jupyter/UI/fba/supplementary_software_code.mat')\n",
    "acetlevel=mat[\"acetlevellistval\"] #acetlevellistval lista de valores de acetilacion"
   ]
  },
  {
   "cell_type": "code",
   "execution_count": 28,
   "id": "966846a9",
   "metadata": {},
   "outputs": [],
   "source": [
    "#Archivos que contienen las predicciones realizazdas por el modelo Pheflux\n",
    "A549= pd.read_csv(\"/home/bguzman/jupyter/UI/pheflux/results/recon3d_6rx_mediums/A549_LUNG_Solve_Succeeded.csv\", sep=\"\\t\", lineterminator='\\n', squeeze=True).to_dict()\n",
    "HCT116= pd.read_csv(\"/home/bguzman/jupyter/UI/pheflux/results/recon3d_6rx_mediums/HCT116_LARGE_INTESTINE_Solve_Succeeded.csv\", sep=\"\\t\", lineterminator='\\n', squeeze=True).to_dict()\n",
    "HL60= pd.read_csv(\"/home/bguzman/jupyter/UI/pheflux/results/recon3d_6rx_mediums/HL60_HAEMATOPOIETIC_AND_LYMPHOID_TISSUE_Solved_To_Acceptable_Level.csv\", sep=\"\\t\", lineterminator='\\n', squeeze=True).to_dict()\n",
    "MCF7= pd.read_csv(\"/home/bguzman/jupyter/UI/pheflux/results/recon3d_6rx_mediums/MCF7_BREAST_Solve_Succeeded.csv\", sep=\"\\t\", lineterminator='\\n', squeeze=True).to_dict()\n",
    "MDAMB231= pd.read_csv(\"/home/bguzman/jupyter/UI/pheflux/results/recon3d_L15/MDAMB231_BREAST_Solve_Succeeded.csv\", sep=\"\\t\", lineterminator='\\n', squeeze=True).to_dict()\n",
    "NB4= pd.read_csv(\"/home/bguzman/jupyter/UI/pheflux/results/recon3d_6rx_mediums/NB4_HAEMATOPOIETIC_AND_LYMPHOID_TISSUE_Solve_Succeeded.csv\", sep=\"\\t\", lineterminator='\\n', squeeze=True).to_dict()\n",
    "PANC1= pd.read_csv(\"/home/bguzman/jupyter/UI/pheflux/results/recon3d_6rx_mediums/PANC1_PANCREAS_Solve_Succeeded.csv\", sep=\"\\t\", lineterminator='\\n', squeeze=True).to_dict()\n",
    "PC3= pd.read_csv(\"/home/bguzman/jupyter/UI/pheflux/results/recon3d_6rx_mediums/PC3_PROSTATE_Solve_Succeeded.csv\", sep=\"\\t\", lineterminator='\\n', squeeze=True).to_dict()\n",
    "SAOS2= pd.read_csv(\"/home/bguzman/jupyter/UI/pheflux/results/recon3d_6rx_mediums/SAOS2_BONE_Solve_Succeeded.csv\", sep=\"\\t\", lineterminator='\\n', squeeze=True).to_dict()\n",
    "SW480= pd.read_csv(\"/home/bguzman/jupyter/UI/pheflux/results/recon3d_L15/SW480_LARGE_INTESTINE_Solve_Succeeded.csv\", sep=\"\\t\", lineterminator='\\n', squeeze=True).to_dict()\n",
    "U2OS= pd.read_csv(\"/home/bguzman/jupyter/UI/pheflux/results/recon3d_6rx_mediums/U2OS_BONE_Solve_Succeeded.csv\", sep=\"\\t\", lineterminator='\\n', squeeze=True).to_dict()\n",
    "U251MG= pd.read_csv(\"/home/bguzman/jupyter/UI/pheflux/results/recon3d_6rx_mediums/U251MG_CENTRAL_NERVOUS_SYSTEM_Solve_Succeeded.csv\", sep=\"\\t\", lineterminator='\\n', squeeze=True).to_dict()\n",
    "U937= pd.read_csv(\"/home/bguzman/jupyter/UI/pheflux/results/recon3d_6rx_mediums/U937_HAEMATOPOIETIC_AND_LYMPHOID_TISSUE_Solve_Succeeded.csv\", sep=\"\\t\", lineterminator='\\n', squeeze=True).to_dict()\n",
    "HUH7= pd.read_csv(\"/home/bguzman/jupyter/UI/pheflux/results/recon3d_6rx_mediums/HUH7_LIVER_Solve_Succeeded.csv\", sep=\"\\t\", lineterminator='\\n', squeeze=True).to_dict()\n"
   ]
  },
  {
   "cell_type": "code",
   "execution_count": 29,
   "id": "6cedc990",
   "metadata": {},
   "outputs": [],
   "source": [
    "#Contruir listas para poder recorrerlas\n",
    "lista_csv=[A549,HCT116,HL60,HUH7,MCF7,MDAMB231,NB4,PANC1,PC3,SAOS2,SW480,U2OS,U251MG,U937] #contiene archivos\n",
    "lista_line=[\"A549\",\"HCT116\",\"HL60\",\"HUH7\",\"MCF7\",\"MDAMB231\",\"NB4\",\"PANC1\",\"PC3\",\"SAOS2\",\"SW480\",\"U2OS\",\"U251MG\",\"U937\"] #contiene nombres de lineas"
   ]
  },
  {
   "cell_type": "code",
   "execution_count": 30,
   "id": "f33b0037",
   "metadata": {},
   "outputs": [
    {
     "name": "stdout",
     "output_type": "stream",
     "text": [
      "[217.31811134976843, 222.46583687102807, 194.20334463506285, 225.59338772739906, 219.89586751255936, 213.10555744941695, 211.04699031037842, 204.9533274016518, 207.06937994563486, 215.89457388173722, 208.9599919419996, 208.98307558590636, 209.11844507269464, 195.80945123465855]\n"
     ]
    }
   ],
   "source": [
    "#Primero construimos la sumatoria de todos los flujos predichos\n",
    "lista_vi=[]\n",
    "#Recorrer cada archivo \n",
    "for name_csv in lista_csv:\n",
    "    sum_fluxes=0 #Inicializar sumatoria por cada linea celular\n",
    "    for valor in name_csv[\"0\"].values(): #Recorrer valores de cada flujo predicho\n",
    "        sum_fluxes+=abs(valor) #sumatoria en valor absoluto para cada linea\n",
    "        \n",
    "    lista_vi.append(sum_fluxes)\n",
    "        \n",
    "print(lista_vi)           "
   ]
  },
  {
   "cell_type": "code",
   "execution_count": 31,
   "id": "992034db",
   "metadata": {},
   "outputs": [
    {
     "name": "stdout",
     "output_type": "stream",
     "text": [
      "[0.004601549285464401, 0.004495072205534812, 0.005149241903527201, 0.004432754036250269, 0.0045476070619784835, 0.0046925101905770875, 0.004738281263946668, 0.004879159624670434, 0.004829299243869593, 0.004631890380662277, 0.004785605085003865, 0.004785076481415508, 0.004781978938550235, 0.005107005783911816]\n"
     ]
    }
   ],
   "source": [
    "#Determinar el alfa para cada linea celular predicha\n",
    "alfa=[]\n",
    "\n",
    "for i in lista_vi:     \n",
    "    alfa.append(1/i)\n",
    "     \n",
    "print(alfa)\n"
   ]
  },
  {
   "cell_type": "code",
   "execution_count": 32,
   "id": "84e95f84",
   "metadata": {},
   "outputs": [
    {
     "name": "stdout",
     "output_type": "stream",
     "text": [
      "0.0006325048127017764\n",
      "0.0007949330843956193\n",
      "0.0009384398680194283\n",
      "0.0006121318259191226\n",
      "0.0009263991824176157\n",
      "0.0007495454760566583\n",
      "0.0006936493041312597\n",
      "0.0005226277073739858\n",
      "0.0006647987101846509\n",
      "0.0006921866215286901\n",
      "0.0007669473745322722\n",
      "0.0004982045336712374\n",
      "0.0006585664992981628\n",
      "0.0005747988069898165\n"
     ]
    }
   ],
   "source": [
    "#Multiplizar los alfas  por el vector de reacciones \n",
    "def multiplicar_vector(lista,alfa):\n",
    "    lista_vacia=[]\n",
    "    for numero in lista:\n",
    "        lista_vacia.append(numero*alfa)\n",
    "    return lista_vacia\n",
    "\n",
    "\n",
    "\n",
    "dicc_all={}\n",
    "j=0\n",
    "for name in lista_csv:\n",
    "    all_fluxes=[]\n",
    "    for i in name[\"0\"]:\n",
    "        all_fluxes.append(name[\"0\"][i])\n",
    "    dicc_all[lista_line[j]]=all_fluxes\n",
    "    j+=1\n",
    "        #for flux in range (len(lista_csv)):\n",
    "            #all_fluxes.append(lista_csv[flux])\n",
    "\n",
    "\n",
    "dicc_all_new={} \n",
    "pos=0\n",
    "for i,k in dicc_all.items():\n",
    "        dicc_all_new[lista_line[pos]]=multiplicar_vector(k,alfa[pos])\n",
    "        pos+=1\n",
    "#Multiplicar alfa por EX_glc_D_e\n",
    "for l,p in dicc_all_new.items():\n",
    "    flux_glu= p[5058]\n",
    "    print(flux_glu)"
   ]
  },
  {
   "cell_type": "code",
   "execution_count": 33,
   "id": "859a3bdd",
   "metadata": {},
   "outputs": [
    {
     "name": "stdout",
     "output_type": "stream",
     "text": [
      "[0.00027175476851344985, 0.000245198762424768, 0.00024505896912500755, 0.00028643838939786586, 0.00023441831639904544, 0.00029397251865685275, 0.0002524458917478019, 0.00031697096471266763, 0.00029770094934363644, 0.000295331800150721, 0.00028030662646978384, 0.00020842837493454278, 0.0002999832664824762, 0.00029069247894519324]\n"
     ]
    }
   ],
   "source": [
    "#Multiplicar alfa por EX_PAC y guardarlo en una lista para llamarlo en el eje x\n",
    "flux_PAC_total=[]\n",
    "for l,p in dicc_all_new.items():\n",
    "    flux_PAC_total.append(p[10604])\n",
    "print(flux_PAC_total)"
   ]
  },
  {
   "cell_type": "code",
   "execution_count": 34,
   "id": "87cb8cfe",
   "metadata": {},
   "outputs": [
    {
     "name": "stdout",
     "output_type": "stream",
     "text": [
      "Coef. Pearson:\n",
      "(0.29044899315688644, 0.31375512521444443)\n"
     ]
    },
    {
     "data": {
      "image/png": "[encoded data removed]",
      "text/plain": [
       "<Figure size 432x288 with 1 Axes>"
      ]
     },
     "metadata": {
      "needs_background": "light"
     },
     "output_type": "display_data"
    }
   ],
   "source": [
    "#grafico EX_PAC*alfa\n",
    "from scipy import stats\n",
    "x=flux_PAC_total\n",
    "y=acetlevel[0,:]\n",
    "\n",
    "\n",
    "plt.scatter(x,y,color=\"chocolate\",edgecolors='black',s=30)\n",
    "plt.title('Fig. 3B Shen et al.',fontsize = 10,fontweight = \"bold\")\n",
    "plt.xlabel('Acetylation flux')\n",
    "plt.ylabel('Bulk H3K9 Acetylation')\n",
    "\n",
    "r=stats.pearsonr(x, y)\n",
    "\n",
    "print(\"Coef. Pearson:\")\n",
    "print(r)\n",
    "\n",
    "for i in range(14):\n",
    "    plt.text(x[i],y[i],lista_line[i],fontsize = 8)\n",
    "    \n",
    "plt.grid()\n",
    "plt.show()"
   ]
  },
  {
   "cell_type": "code",
   "execution_count": null,
   "id": "f00b55c8",
   "metadata": {},
   "outputs": [],
   "source": []
  },
  {
   "cell_type": "code",
   "execution_count": null,
   "id": "fb93df23",
   "metadata": {},
   "outputs": [],
   "source": []
  }
 ],
 "metadata": {
  "kernelspec": {
   "display_name": "Python 3 (ipykernel)",
   "language": "python",
   "name": "python3"
  },
  "language_info": {
   "codemirror_mode": {
    "name": "ipython",
    "version": 3
   },
   "file_extension": ".py",
   "mimetype": "text/x-python",
   "name": "python",
   "nbconvert_exporter": "python",
   "pygments_lexer": "ipython3",
   "version": "3.8.3"
  }
 },
 "nbformat": 4,
 "nbformat_minor": 5
}
