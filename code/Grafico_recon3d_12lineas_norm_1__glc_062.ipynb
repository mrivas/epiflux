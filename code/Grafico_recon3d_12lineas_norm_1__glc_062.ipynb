{
 "cells": [
  {
   "cell_type": "code",
   "execution_count": 7,
   "id": "8c55508e",
   "metadata": {},
   "outputs": [],
   "source": [
    "#Importar librerias\n",
    "import pandas as pd\n",
    "import numpy as np\n",
    "import matplotlib.pyplot as plt\n",
    "import scipy.io\n",
    "import cobra"
   ]
  },
  {
   "cell_type": "code",
   "execution_count": 8,
   "id": "fae575ca",
   "metadata": {},
   "outputs": [],
   "source": [
    "#Cargar modelo y datos de interes\n",
    "model = cobra.io.read_sbml_model(\"../../recon3d_6rx.xml\")\n",
    "mat = scipy.io.loadmat('/home/bguzman/jupyter/UI/fba/supplementary_software_code.mat')\n",
    "acetlevel=mat[\"acetlevellistval\"] #acetlevellistval lista de valores de acetilacion"
   ]
  },
  {
   "cell_type": "code",
   "execution_count": 9,
   "id": "77dac6fe",
   "metadata": {},
   "outputs": [
    {
     "data": {
      "text/plain": [
       "array([0.00293056, 0.00201402, 0.00345657, 0.00400844, 0.00237375,\n",
       "       0.00173895, 0.0020285 , 0.00952421, 0.00604044, 0.00565521,\n",
       "       0.00169038, 0.00620858, 0.00445255, 0.00172606])"
      ]
     },
     "execution_count": 9,
     "metadata": {},
     "output_type": "execute_result"
    }
   ],
   "source": [
    "acetlevel[0,:]"
   ]
  },
  {
   "cell_type": "code",
   "execution_count": 10,
   "id": "ea1b91ca",
   "metadata": {},
   "outputs": [],
   "source": [
    "#Solo 12 lineas en las que se utiliza glucosa como fuente de carbono principal\n",
    "A549= pd.read_csv(\"/home/bguzman/jupyter/UI/pheflux/results/recon3d_6rx_mediums/A549_LUNG_Solve_Succeeded.csv\", sep=\"\\t\", lineterminator='\\n', squeeze=True).to_dict()\n",
    "HCT116= pd.read_csv(\"/home/bguzman/jupyter/UI/pheflux/results/recon3d_6rx_mediums/HCT116_LARGE_INTESTINE_Solve_Succeeded.csv\", sep=\"\\t\", lineterminator='\\n', squeeze=True).to_dict()\n",
    "HL60= pd.read_csv(\"/home/bguzman/jupyter/UI/pheflux/results/recon3d_6rx_mediums/HL60_HAEMATOPOIETIC_AND_LYMPHOID_TISSUE_Solved_To_Acceptable_Level.csv\", sep=\"\\t\", lineterminator='\\n', squeeze=True).to_dict()\n",
    "MCF7= pd.read_csv(\"/home/bguzman/jupyter/UI/pheflux/results/recon3d_6rx_mediums/MCF7_BREAST_Solve_Succeeded.csv\", sep=\"\\t\", lineterminator='\\n', squeeze=True).to_dict()\n",
    "NB4= pd.read_csv(\"/home/bguzman/jupyter/UI/pheflux/results/recon3d_6rx_mediums/NB4_HAEMATOPOIETIC_AND_LYMPHOID_TISSUE_Solve_Succeeded.csv\", sep=\"\\t\", lineterminator='\\n', squeeze=True).to_dict()\n",
    "PANC1= pd.read_csv(\"/home/bguzman/jupyter/UI/pheflux/results/recon3d_6rx_mediums/PANC1_PANCREAS_Solve_Succeeded.csv\", sep=\"\\t\", lineterminator='\\n', squeeze=True).to_dict()\n",
    "PC3= pd.read_csv(\"/home/bguzman/jupyter/UI/pheflux/results/recon3d_6rx_mediums/PC3_PROSTATE_Solve_Succeeded.csv\", sep=\"\\t\", lineterminator='\\n', squeeze=True).to_dict()\n",
    "SAOS2= pd.read_csv(\"/home/bguzman/jupyter/UI/pheflux/results/recon3d_6rx_mediums/SAOS2_BONE_Solve_Succeeded.csv\", sep=\"\\t\", lineterminator='\\n', squeeze=True).to_dict()\n",
    "U2OS= pd.read_csv(\"/home/bguzman/jupyter/UI/pheflux/results/recon3d_6rx_mediums/U2OS_BONE_Solve_Succeeded.csv\", sep=\"\\t\", lineterminator='\\n', squeeze=True).to_dict()\n",
    "U251MG= pd.read_csv(\"/home/bguzman/jupyter/UI/pheflux/results/recon3d_6rx_mediums/U251MG_CENTRAL_NERVOUS_SYSTEM_Solve_Succeeded.csv\", sep=\"\\t\", lineterminator='\\n', squeeze=True).to_dict()\n",
    "U937= pd.read_csv(\"/home/bguzman/jupyter/UI/pheflux/results/recon3d_6rx_mediums/U937_HAEMATOPOIETIC_AND_LYMPHOID_TISSUE_Solve_Succeeded.csv\", sep=\"\\t\", lineterminator='\\n', squeeze=True).to_dict()\n",
    "HUH7= pd.read_csv(\"/home/bguzman/jupyter/UI/pheflux/results/recon3d_6rx_mediums/HUH7_LIVER_Solve_Succeeded.csv\", sep=\"\\t\", lineterminator='\\n', squeeze=True).to_dict()"
   ]
  },
  {
   "cell_type": "code",
   "execution_count": 11,
   "id": "d56e95c2",
   "metadata": {},
   "outputs": [],
   "source": [
    "#Agrupar en listas los archivos y nombres \n",
    "lista_csv=[A549,HCT116,HL60,HUH7,MCF7,NB4,PANC1,PC3,SAOS2,U2OS,U251MG,U937]\n",
    "lista_line=[\"A549\",\"HCT116\",\"HL60\",\"HUH7\",\"MCF7\",\"NB4\",\"PANC1\",\"PC3\",\"SAOS2\",\"U2OS\",\"U251MG\",\"U937\"]"
   ]
  },
  {
   "cell_type": "code",
   "execution_count": 12,
   "id": "b4118871",
   "metadata": {},
   "outputs": [
    {
     "name": "stdout",
     "output_type": "stream",
     "text": [
      "[0.13745475131598905, 0.17684545387653905, 0.18224816110825992, 0.13809289234485336, 0.20371135188064735, 0.1463925979677907, 0.10711428761859518, 0.13765945670659346, 0.14943933570157586, 0.10411631571745744, 0.13771840231019966, 0.1125510389670124]\n"
     ]
    }
   ],
   "source": [
    "#listas para guardar los valores de los flujos para c/rx\n",
    "lista_glc=[]\n",
    "lista_PAC=[]\n",
    "\n",
    "def buscar_posicion(file_csv,name_reaction):\n",
    "\n",
    "    for posicion,name in file_csv[\"Unnamed: 0\"].items():\n",
    "        if name== name_reaction :\n",
    "            return (posicion)\n",
    "    return (\"Not found\")\n",
    "\n",
    "def buscar_valor(file_csv,name_reaction):\n",
    "    posicion= buscar_posicion(file_csv,name_reaction)\n",
    "    return file_csv[\"0\"][posicion]\n",
    "\n",
    "for name_csv in lista_csv:\n",
    "    lista_PAC.append(buscar_valor(name_csv,\"R_EX_PAC\"))\n",
    "    lista_glc.append(buscar_valor(name_csv,\"R_EX_glc__D_e\"))\n",
    "    \n",
    "\n",
    "print(lista_glc)"
   ]
  },
  {
   "cell_type": "code",
   "execution_count": 13,
   "id": "d6350457",
   "metadata": {},
   "outputs": [
    {
     "name": "stdout",
     "output_type": "stream",
     "text": [
      "[0.4296485387243704, 0.30845207884534137, 0.2611344396974556, 0.4679357897586447, 0.25304244741158566, 0.363938794783295, 0.6064947576264784, 0.44780614760962556, 0.42666499317551454, 0.4183590490408576, 0.45550945394606274, 0.505729092354124]\n"
     ]
    }
   ],
   "source": [
    "#Valor total multiplicación EX_PAC*alfa_glc\n",
    "norm=[]\n",
    "for i in range(12):\n",
    "    mult1=lista_PAC[i]\n",
    "    alfa=1/lista_glc[i]\n",
    "    \n",
    "    \n",
    "    norm.append(mult1*alfa)\n",
    "print(norm)"
   ]
  },
  {
   "cell_type": "code",
   "execution_count": 14,
   "id": "ead33653",
   "metadata": {},
   "outputs": [],
   "source": [
    "#lista que contiene acetlevel para las 12 lineas \n",
    "acetlevel=[0.00293056, 0.00201402, 0.00345657, 0.00400844, 0.00237375, 0.0020285 , 0.00952421, 0.00604044, 0.00565521, 0.00620858, 0.00445255, 0.00172606]\n"
   ]
  },
  {
   "cell_type": "code",
   "execution_count": 15,
   "id": "fbbc203c",
   "metadata": {},
   "outputs": [
    {
     "name": "stdout",
     "output_type": "stream",
     "text": [
      "Coef. Pearson:\n",
      "(0.6205983410930849, 0.031297223022245364)\n"
     ]
    },
    {
     "data": {
      "image/png": "[encoded data removed]",
      "text/plain": [
       "<Figure size 432x288 with 1 Axes>"
      ]
     },
     "metadata": {
      "needs_background": "light"
     },
     "output_type": "display_data"
    }
   ],
   "source": [
    "from scipy import stats\n",
    "x=norm \n",
    "y=acetlevel\n",
    "plt.scatter(x,y,color=\"chocolate\",edgecolors='black',s=30)\n",
    "plt.title('Fig. 3B Shen et al.',fontsize = 10,fontweight = \"bold\")\n",
    "plt.xlabel('Acetylation flux')\n",
    "plt.ylabel('Bulk H3K9 Acetylation')\n",
    "\n",
    "r=stats.pearsonr(x, y)\n",
    "\n",
    "print(\"Coef. Pearson:\")\n",
    "print(r)\n",
    "\n",
    "for i in range(12):\n",
    "    plt.text(x[i],y[i],lista_line[i],fontsize = 8)\n",
    "    \n",
    "plt.grid()\n",
    "plt.show()\n"
   ]
  },
  {
   "cell_type": "code",
   "execution_count": null,
   "id": "fcc1dd08",
   "metadata": {},
   "outputs": [],
   "source": []
  }
 ],
 "metadata": {
  "kernelspec": {
   "display_name": "Python 3 (ipykernel)",
   "language": "python",
   "name": "python3"
  },
  "language_info": {
   "codemirror_mode": {
    "name": "ipython",
    "version": 3
   },
   "file_extension": ".py",
   "mimetype": "text/x-python",
   "name": "python",
   "nbconvert_exporter": "python",
   "pygments_lexer": "ipython3",
   "version": "3.8.3"
  }
 },
 "nbformat": 4,
 "nbformat_minor": 5
}
