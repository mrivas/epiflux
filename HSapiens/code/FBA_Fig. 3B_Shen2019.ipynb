{
 "cells": [
  {
   "cell_type": "code",
   "execution_count": 1,
   "id": "286115a1",
   "metadata": {},
   "outputs": [
    {
     "name": "stdout",
     "output_type": "stream",
     "text": [
      "Scaling...\n",
      " A: min|aij| =  1.000e+00  max|aij| =  1.000e+00  ratio =  1.000e+00\n",
      "Problem data seem to be well scaled\n",
      "Maximize\n",
      "1.0*biomass_objective - 1.0*biomass_objective_reverse_04afc\n"
     ]
    }
   ],
   "source": [
    "#importar librerias\n",
    "import numpy as np\n",
    "import cobra\n",
    "#definir modelo extraido desde archivos anexados en el paper de Shen.\n",
    "model=cobra.io.load_matlab_model(\"supplementary_software_code.mat\", variable_name=\"acetylation_model\")\n",
    "print(model.objective)\n",
    "\n",
    "import scipy.io\n",
    "mat = scipy.io.loadmat('supplementary_software_code.mat')"
   ]
  },
  {
   "cell_type": "code",
   "execution_count": 2,
   "id": "77ac6800",
   "metadata": {},
   "outputs": [],
   "source": [
    "\n",
    "epsilon = 0.01\n",
    "extended_objective = model.problem.Objective(\n",
    "    model.reactions.biomass_objective.flux_expression + \n",
    "    epsilon * model.reactions.EX_KAC.flux_expression,\n",
    "    direction='max')\n",
    "model.objective = extended_objective\n",
    "solution = model.optimize()"
   ]
  },
  {
   "cell_type": "code",
   "execution_count": 4,
   "id": "482bf6ed",
   "metadata": {},
   "outputs": [],
   "source": [
    "cellularlines= mat[\"acetlevellist\"] #acetlevellist contiene los nombres de las lineas celulares\n",
    "celllinenames= mat[\"celllinenames_ccle1\"] #celllinenames_ccle1 contains CCLE cell line names\n",
    "cclemetz= mat[\"ccle_expression_metz\"] #ccle_expression_metz matriz gene expression data (3084, 1037)  \n",
    "ccleidsmet= mat[\"ccleids_met\"] #ccleids_met id de genes\n",
    "acetlevel=mat[\"acetlevellistval\"] #acetlevellistval lista de valores de acetilacion\n"
   ]
  },
  {
   "cell_type": "code",
   "execution_count": 5,
   "id": "cff37678",
   "metadata": {},
   "outputs": [
    {
     "name": "stdout",
     "output_type": "stream",
     "text": [
      "{'HL60': 48, 'HCT116': 54, 'A549': 60, 'MDAMB231': 67, 'PC3': 132, 'U251MG': 194, 'U2OS': 287, 'SAOS2': 296, 'HUH7': 354, 'SW480': 442, 'PANC1': 479, 'MCF7': 553, 'U937': 554, 'NB4': 627}\n"
     ]
    }
   ],
   "source": [
    "#Lineas celulares, Nombre e indice \n",
    "\n",
    "list_cell=cellularlines\n",
    "dicc_cell={}\n",
    "for i,name in enumerate(celllinenames):  # nombres provenientes de \"celllinenames_ccle1\" (1037, 1)\n",
    "    for j,name2 in enumerate(cellularlines): #nombres provenientes de \"acetlevellist\" (14,1)\n",
    "        if name2==name:\n",
    "            dicc_cell[name2[0][0]]=i        #[0,0] -> array    \n",
    "print(dicc_cell) #dicc_cell -> iii\n",
    "\n",
    "   \n"
   ]
  },
  {
   "cell_type": "code",
   "execution_count": 6,
   "id": "5e948a3f",
   "metadata": {},
   "outputs": [
    {
     "name": "stdout",
     "output_type": "stream",
     "text": [
      "Genes on :  ['CYP2E1', 'IDI2', 'UROC1', 'INPP5A', 'ATP6V0A2', 'ST3GAL3', 'IREB2', 'ACSL4', 'ACSL4', 'PIKFYVE', 'ATP5J2', 'PGK1', 'NDUFB6', 'CHPT1', 'QDPR', 'CAD', 'DTYMK', 'INPP5D', 'HADHB', 'DNMT1', 'NDUFA7', 'ANPEP', 'INPP5D', 'INPP5D', 'LPL', 'LPL', 'MPO', 'MPO', 'SLC43A1', 'SLC2A5', 'SLC2A5', 'SLC22A4', 'PIK3CG', 'PIK3CG', 'HAL', 'HDC', 'AHCYL1', 'DGKZ', 'TBXAS1', 'HADHA', 'HADHA', 'PPAT', 'PRDX3', 'SPHK2', 'CYP2E1', 'CYP2E1', 'CPT1A', 'AK2', 'PIKFYVE', 'ST3GAL6', 'PAICS', 'IREB2', 'CAT', 'ABCA1', 'SPTLC2', 'SHMT1', 'PNLIPRP2', 'ATP6V0A2', 'SETD8', 'CHST4', 'SLC28A3', 'DNMT3B', 'CHAT', 'PGM2', 'SETD8', 'SETD8', 'PGM2', 'PGM2', 'CHST11', 'ETNK1', 'NDUFA10', 'SLC20A1', 'MGAT4A', 'GBGT1', 'PIGL', 'INPP5D', 'HIBADH', 'ATP6V0A2', 'TGDS', 'ACAD10', 'CHST13', 'ENTPD1', 'SPCS2', 'SPHK2']\n",
      "______________________________________________________________________________________________________________________________\n",
      "Genes off :  ['GAMT', 'HEXB', 'EXT1', 'BLVRB', 'IDS', 'AK1', 'P4HA2', 'AGL', 'HAGH', 'ADCY6', 'ADCY3', 'ADCY3', 'SLC12A4', 'GPD2', 'GPAA1', 'IDS', 'SLC35D2', 'HSD17B8', 'GPAA1', 'SGPP1', 'SGPP1', 'SAT2', 'GPD2', 'SLC26A11', 'BLVRA', 'ITPKB', 'SGSH']\n"
     ]
    }
   ],
   "source": [
    "\n",
    "cclemetz= mat[\"ccle_expression_metz\"] #ccle_expression_metz matriz gene expression data (3084, 1037)  \n",
    "ccleidsmet= mat[\"ccleids_met\"] #ccleids_met id de genes\n",
    "\n",
    "geneson={}    \n",
    "genesoff={}\n",
    "\n",
    "for linea_celular,indice in dicc_cell.items(): \n",
    "    posicion=0 #inicializando posicion\n",
    "    lista_genes= cclemetz[:,indice] # 3084 X1 \n",
    "    geneson[linea_celular]=[]    \n",
    "    genesoff[linea_celular]=[]\n",
    "    \n",
    "    for posicion,valor in enumerate(lista_genes):  #recorro los  valores de la lista 3084 datos (columna->indice)\n",
    "        #print(posicion)    \n",
    "        \n",
    "        if valor > 2 and ccleidsmet[posicion][0][0] not in geneson  : #not in lista_name_geneson para evitar repeticiones de genes\n",
    "    \n",
    "            geneson[linea_celular].append(ccleidsmet[posicion][0][0]) #append para agregar elementos a la lista vacia\n",
    "            \n",
    "            \n",
    "        if valor < -2 and ccleidsmet[posicion][0][0] not in genesoff:\n",
    "            genesoff[linea_celular].append(ccleidsmet[posicion][0][0])\n",
    "    \n",
    "     \n",
    "print('Genes on : ',geneson[linea_celular])    \n",
    "print('______________________________________________________________________________________________________________________________')  \n",
    "print('Genes off : ',genesoff[linea_celular])  "
   ]
  },
  {
   "cell_type": "code",
   "execution_count": 7,
   "id": "46183149",
   "metadata": {
    "scrolled": true
   },
   "outputs": [
    {
     "name": "stdout",
     "output_type": "stream",
     "text": [
      "20.210801153845974\n",
      "8.960801153841699\n",
      "20.210801153845974\n",
      "20.210801153845974\n",
      "20.210801153845974\n",
      "0.0\n",
      "1.460801153841496\n",
      "20.210801153845974\n",
      "20.210801153845974\n",
      "8.960801153841699\n",
      "0.0\n",
      "20.210801153845974\n",
      "20.210801153845974\n",
      "1.460801153841496\n"
     ]
    }
   ],
   "source": [
    "#Usar la lista de los genes apagados para crear redes metabólicas específicas para cada línea celular:\n",
    "\n",
    "mediums=mat[\"acetlevlistmedia\"] #acetlevlistmedia contiene los nombres de los medios de cultivo\n",
    "#Obtencion de un modelo por cada linea celular\n",
    "nombre_lineacelular=[]\n",
    "valores_lineacelular=[]\n",
    "for index,linea_celular in enumerate(cellularlines):\n",
    "    linea_celular=linea_celular[0][0]\n",
    "    nombre_lineacelular.append(linea_celular)\n",
    "    modeli=model.copy() #Realizamos una copia para no acumular knockout de las lineas celulares anteriores\n",
    "    \n",
    "\n",
    "    #Esto elimina todos los genes que estan apagados en la linea celular\n",
    "    for gene in genesoff[linea_celular]:\n",
    "        if gene in modeli.genes:\n",
    "            modeli.genes.get_by_id(gene).knock_out()\n",
    "    \n",
    "    #Aqui vamos a incorporar la info. del medio de cultivo (especifico para cada linea celular)\n",
    "    medium=mediums[index] \n",
    "    \n",
    "    if medium == \"RPMI\":\n",
    "        modeli.reactions.get_by_id(\"EX_glc(e)\").lower_bound=-5 #get_by_id busca el nombre de la reaccion, lo agregamos porque quizas python no acepta nombres con parentesis\n",
    "    if medium == \"DMEM\":\n",
    "        modeli.reactions.get_by_id(\"EX_glc(e)\").lower_bound=-5*4.5/2\n",
    "    if medium == \"L15\":\n",
    "        modeli.reactions.get_by_id(\"EX_glc(e)\").lower_bound=-0 \n",
    "        modeli.reactions.get_by_id(\"EX_gal(e)\").lower_bound=-0.9 \n",
    "    if medium == \"McCoy 5A\":\n",
    "        modeli.reactions.get_by_id(\"EX_glc(e)\").lower_bound=-5*3/2\n",
    "    if medium == \"IMM\":\n",
    "        modeli.reactions.get_by_id(\"EX_glc(e)\").lower_bound=-5*4.5/2\n",
    "    \n",
    "    #Ahora vamos hacer la optimizacion del modelo(i) , \n",
    "    solutioni=modeli.optimize() \n",
    "    print(solutioni[\"EX_KAC\"]) #Desde la solucion(i) se extrae el nombre de la reaccion de interes en ese caso: EX_KAC\n",
    "    valores_lineacelular.append(solutioni[\"EX_KAC\"])\n",
    "   \n",
    "  "
   ]
  },
  {
   "cell_type": "markdown",
   "id": "797c82ef",
   "metadata": {},
   "source": [
    "Formula para minimizar el error cuadratico medio (MCO): $\\beta =(X^{T}X^{-1}X^{T}Y$)"
   ]
  },
  {
   "cell_type": "code",
   "execution_count": 9,
   "id": "e3e2d458",
   "metadata": {},
   "outputs": [
    {
     "data": {
      "image/png": "[encoded data removed]",
      "text/plain": [
       "<Figure size 432x288 with 1 Axes>"
      ]
     },
     "metadata": {
      "needs_background": "light"
     },
     "output_type": "display_data"
    }
   ],
   "source": [
    "#Codigo para el figura \n",
    "import numpy as np\n",
    "import scipy as sc\n",
    "import matplotlib.pyplot as plt\n",
    "\n",
    "x=valores_lineacelular\n",
    "y=acetlevel[0,:]\n",
    "\n",
    "\n",
    "plt.scatter(x,y,color=\"chocolate\",edgecolors='black',s=30)\n",
    "plt.title('Fig. 3B Shen et al.',fontsize = 10,fontweight = \"bold\")\n",
    "plt.xlabel('Acetylation flux')\n",
    "plt.ylabel('Bulk H3K9 Acetylation')\n",
    "\n",
    "m=np.array([np.ones(14),x]).T \n",
    "#print(x,y)\n",
    "plt.xlim(-1,22.5)  # Definimos el rango de valores para el eje X\n",
    "plt.ylim(0,0.01) # Definimos el rango de valores para el eje y\n",
    "B=np.linalg.inv(m.T @m) @ m.T @y #ec. beta para realizar la linea de tendencia\n",
    "\n",
    "\n",
    "#for nombre in nombre_lineacelular:\n",
    "    #print(nombre)\n",
    "\n",
    "plt.text(x[0]+0.32,y[0]-0.00015,nombre_lineacelular[0],fontsize = 8) #A549\n",
    "plt.text(x[1]+0.32,y[1]-0.00015,nombre_lineacelular[1],fontsize = 8) #HTT116\n",
    "plt.text(x[2]+0.32,y[2]-0.00015,nombre_lineacelular[2],fontsize = 8) #HL60\n",
    "plt.text(x[3]+0.32,y[3]-0.00015,nombre_lineacelular[3],fontsize = 8) #HUH7\n",
    "plt.text(x[4]+0.32,y[4]-0.00015,nombre_lineacelular[4],fontsize = 8) #MCF7\n",
    "plt.text(x[5]+1.8,y[5]-0.0004,nombre_lineacelular[5],fontsize = 8) #MDAMB231\n",
    "plt.text(x[6]+0.7,y[6]-0.00020,nombre_lineacelular[6],fontsize = 8) #NB4\n",
    "plt.text(x[7]+0.3,y[7]-0.00020,nombre_lineacelular[7],fontsize = 8) #PANC1\n",
    "plt.text(x[8]+0.3,y[8]-0.00020,nombre_lineacelular[8],fontsize = 8) #PC3\n",
    "plt.text(x[9]+0.25,y[9]-0.0001,nombre_lineacelular[9],fontsize = 8) #SAOS2\n",
    "plt.text(x[10]-0.5,y[10]+0.0008,nombre_lineacelular[10],fontsize = 8) #SW480\n",
    "plt.text(x[11]+0.3,y[11]+0.00025,nombre_lineacelular[11],fontsize = 8) #U2OS\n",
    "plt.text(x[12]+0.3,y[12]-0.00005,nombre_lineacelular[12],fontsize = 8) #U251MG\n",
    "plt.text(x[13]-1.8,y[13]-0.0007,nombre_lineacelular[13],fontsize = 8) #U937\n",
    "\n",
    "plt.plot([0,20],[B[0]+B[1]*1,B[0]+B[1]*20],c=\"red\")\n",
    "\n",
    "plt.grid()\n",
    "plt.show()"
   ]
  },
  {
   "cell_type": "code",
   "execution_count": null,
   "id": "1a9eef80",
   "metadata": {},
   "outputs": [],
   "source": []
  }
 ],
 "metadata": {
  "kernelspec": {
   "display_name": "Python 3 (ipykernel)",
   "language": "python",
   "name": "python3"
  },
  "language_info": {
   "codemirror_mode": {
    "name": "ipython",
    "version": 3
   },
   "file_extension": ".py",
   "mimetype": "text/x-python",
   "name": "python",
   "nbconvert_exporter": "python",
   "pygments_lexer": "ipython3",
   "version": "3.8.3"
  }
 },
 "nbformat": 4,
 "nbformat_minor": 5
}
